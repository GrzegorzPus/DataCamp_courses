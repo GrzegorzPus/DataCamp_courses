{
 "cells": [
  {
   "cell_type": "markdown",
   "id": "f75ab9be",
   "metadata": {},
   "source": [
    "# Intermediate Python"
   ]
  },
  {
   "cell_type": "code",
   "execution_count": 1,
   "id": "56c0e803",
   "metadata": {},
   "outputs": [],
   "source": [
    "import pandas as pd\n",
    "import matplotlib.pyplot as plt\n",
    "import numpy as np\n",
    "import seaborn as sns"
   ]
  },
  {
   "cell_type": "code",
   "execution_count": 2,
   "id": "09defc84",
   "metadata": {},
   "outputs": [],
   "source": [
    "iris = sns.load_dataset('iris')"
   ]
  },
  {
   "cell_type": "code",
   "execution_count": 3,
   "id": "b0f43fa7",
   "metadata": {},
   "outputs": [
    {
     "data": {
      "text/html": [
       "<div>\n",
       "<style scoped>\n",
       "    .dataframe tbody tr th:only-of-type {\n",
       "        vertical-align: middle;\n",
       "    }\n",
       "\n",
       "    .dataframe tbody tr th {\n",
       "        vertical-align: top;\n",
       "    }\n",
       "\n",
       "    .dataframe thead th {\n",
       "        text-align: right;\n",
       "    }\n",
       "</style>\n",
       "<table border=\"1\" class=\"dataframe\">\n",
       "  <thead>\n",
       "    <tr style=\"text-align: right;\">\n",
       "      <th></th>\n",
       "      <th>sepal_length</th>\n",
       "      <th>sepal_width</th>\n",
       "      <th>petal_length</th>\n",
       "      <th>petal_width</th>\n",
       "    </tr>\n",
       "  </thead>\n",
       "  <tbody>\n",
       "    <tr>\n",
       "      <th>count</th>\n",
       "      <td>150.000000</td>\n",
       "      <td>150.000000</td>\n",
       "      <td>150.000000</td>\n",
       "      <td>150.000000</td>\n",
       "    </tr>\n",
       "    <tr>\n",
       "      <th>mean</th>\n",
       "      <td>5.843333</td>\n",
       "      <td>3.057333</td>\n",
       "      <td>3.758000</td>\n",
       "      <td>1.199333</td>\n",
       "    </tr>\n",
       "    <tr>\n",
       "      <th>std</th>\n",
       "      <td>0.828066</td>\n",
       "      <td>0.435866</td>\n",
       "      <td>1.765298</td>\n",
       "      <td>0.762238</td>\n",
       "    </tr>\n",
       "    <tr>\n",
       "      <th>min</th>\n",
       "      <td>4.300000</td>\n",
       "      <td>2.000000</td>\n",
       "      <td>1.000000</td>\n",
       "      <td>0.100000</td>\n",
       "    </tr>\n",
       "    <tr>\n",
       "      <th>25%</th>\n",
       "      <td>5.100000</td>\n",
       "      <td>2.800000</td>\n",
       "      <td>1.600000</td>\n",
       "      <td>0.300000</td>\n",
       "    </tr>\n",
       "    <tr>\n",
       "      <th>50%</th>\n",
       "      <td>5.800000</td>\n",
       "      <td>3.000000</td>\n",
       "      <td>4.350000</td>\n",
       "      <td>1.300000</td>\n",
       "    </tr>\n",
       "    <tr>\n",
       "      <th>75%</th>\n",
       "      <td>6.400000</td>\n",
       "      <td>3.300000</td>\n",
       "      <td>5.100000</td>\n",
       "      <td>1.800000</td>\n",
       "    </tr>\n",
       "    <tr>\n",
       "      <th>max</th>\n",
       "      <td>7.900000</td>\n",
       "      <td>4.400000</td>\n",
       "      <td>6.900000</td>\n",
       "      <td>2.500000</td>\n",
       "    </tr>\n",
       "  </tbody>\n",
       "</table>\n",
       "</div>"
      ],
      "text/plain": [
       "       sepal_length  sepal_width  petal_length  petal_width\n",
       "count    150.000000   150.000000    150.000000   150.000000\n",
       "mean       5.843333     3.057333      3.758000     1.199333\n",
       "std        0.828066     0.435866      1.765298     0.762238\n",
       "min        4.300000     2.000000      1.000000     0.100000\n",
       "25%        5.100000     2.800000      1.600000     0.300000\n",
       "50%        5.800000     3.000000      4.350000     1.300000\n",
       "75%        6.400000     3.300000      5.100000     1.800000\n",
       "max        7.900000     4.400000      6.900000     2.500000"
      ]
     },
     "execution_count": 3,
     "metadata": {},
     "output_type": "execute_result"
    }
   ],
   "source": [
    "iris.describe()"
   ]
  },
  {
   "cell_type": "markdown",
   "id": "ab130185",
   "metadata": {},
   "source": [
    " "
   ]
  },
  {
   "cell_type": "markdown",
   "id": "abf79e63",
   "metadata": {},
   "source": [
    "### Boolean Operators"
   ]
  },
  {
   "cell_type": "code",
   "execution_count": 4,
   "id": "8f1cfd3c",
   "metadata": {},
   "outputs": [
    {
     "data": {
      "text/plain": [
       "True"
      ]
     },
     "execution_count": 4,
     "metadata": {},
     "output_type": "execute_result"
    }
   ],
   "source": [
    "True and True"
   ]
  },
  {
   "cell_type": "code",
   "execution_count": 5,
   "id": "c265d5a9",
   "metadata": {},
   "outputs": [
    {
     "data": {
      "text/plain": [
       "False"
      ]
     },
     "execution_count": 5,
     "metadata": {},
     "output_type": "execute_result"
    }
   ],
   "source": [
    "True and False"
   ]
  },
  {
   "cell_type": "code",
   "execution_count": 6,
   "id": "795553dc",
   "metadata": {},
   "outputs": [
    {
     "data": {
      "text/plain": [
       "True"
      ]
     },
     "execution_count": 6,
     "metadata": {},
     "output_type": "execute_result"
    }
   ],
   "source": [
    "True or False"
   ]
  },
  {
   "attachments": {
    "Zrzut%20ekranu%202023-04-01%20135257.png": {
     "image/png": "[encoded data removed]"
    }
   },
   "cell_type": "markdown",
   "id": "cf6ed3f6",
   "metadata": {},
   "source": [
    "![Zrzut%20ekranu%202023-04-01%20135257.png](attachment:Zrzut%20ekranu%202023-04-01%20135257.png)"
   ]
  },
  {
   "cell_type": "code",
   "execution_count": 7,
   "id": "c25e0d4a",
   "metadata": {},
   "outputs": [
    {
     "data": {
      "text/plain": [
       "0      False\n",
       "1      False\n",
       "2      False\n",
       "3      False\n",
       "4      False\n",
       "       ...  \n",
       "145     True\n",
       "146     True\n",
       "147     True\n",
       "148     True\n",
       "149    False\n",
       "Name: sepal_length, Length: 150, dtype: bool"
      ]
     },
     "execution_count": 7,
     "metadata": {},
     "output_type": "execute_result"
    }
   ],
   "source": [
    "np.logical_and(iris['sepal_length'] > 6, iris['sepal_length'] < 7.5)"
   ]
  },
  {
   "cell_type": "code",
   "execution_count": 8,
   "id": "fb6ce1c9",
   "metadata": {},
   "outputs": [
    {
     "data": {
      "text/html": [
       "<div>\n",
       "<style scoped>\n",
       "    .dataframe tbody tr th:only-of-type {\n",
       "        vertical-align: middle;\n",
       "    }\n",
       "\n",
       "    .dataframe tbody tr th {\n",
       "        vertical-align: top;\n",
       "    }\n",
       "\n",
       "    .dataframe thead th {\n",
       "        text-align: right;\n",
       "    }\n",
       "</style>\n",
       "<table border=\"1\" class=\"dataframe\">\n",
       "  <thead>\n",
       "    <tr style=\"text-align: right;\">\n",
       "      <th></th>\n",
       "      <th>sepal_length</th>\n",
       "      <th>sepal_width</th>\n",
       "      <th>petal_length</th>\n",
       "      <th>petal_width</th>\n",
       "      <th>species</th>\n",
       "    </tr>\n",
       "  </thead>\n",
       "  <tbody>\n",
       "    <tr>\n",
       "      <th>50</th>\n",
       "      <td>7.0</td>\n",
       "      <td>3.2</td>\n",
       "      <td>4.7</td>\n",
       "      <td>1.4</td>\n",
       "      <td>versicolor</td>\n",
       "    </tr>\n",
       "    <tr>\n",
       "      <th>52</th>\n",
       "      <td>6.9</td>\n",
       "      <td>3.1</td>\n",
       "      <td>4.9</td>\n",
       "      <td>1.5</td>\n",
       "      <td>versicolor</td>\n",
       "    </tr>\n",
       "    <tr>\n",
       "      <th>76</th>\n",
       "      <td>6.8</td>\n",
       "      <td>2.8</td>\n",
       "      <td>4.8</td>\n",
       "      <td>1.4</td>\n",
       "      <td>versicolor</td>\n",
       "    </tr>\n",
       "    <tr>\n",
       "      <th>102</th>\n",
       "      <td>7.1</td>\n",
       "      <td>3.0</td>\n",
       "      <td>5.9</td>\n",
       "      <td>2.1</td>\n",
       "      <td>virginica</td>\n",
       "    </tr>\n",
       "    <tr>\n",
       "      <th>107</th>\n",
       "      <td>7.3</td>\n",
       "      <td>2.9</td>\n",
       "      <td>6.3</td>\n",
       "      <td>1.8</td>\n",
       "      <td>virginica</td>\n",
       "    </tr>\n",
       "    <tr>\n",
       "      <th>109</th>\n",
       "      <td>7.2</td>\n",
       "      <td>3.6</td>\n",
       "      <td>6.1</td>\n",
       "      <td>2.5</td>\n",
       "      <td>virginica</td>\n",
       "    </tr>\n",
       "    <tr>\n",
       "      <th>112</th>\n",
       "      <td>6.8</td>\n",
       "      <td>3.0</td>\n",
       "      <td>5.5</td>\n",
       "      <td>2.1</td>\n",
       "      <td>virginica</td>\n",
       "    </tr>\n",
       "    <tr>\n",
       "      <th>120</th>\n",
       "      <td>6.9</td>\n",
       "      <td>3.2</td>\n",
       "      <td>5.7</td>\n",
       "      <td>2.3</td>\n",
       "      <td>virginica</td>\n",
       "    </tr>\n",
       "    <tr>\n",
       "      <th>125</th>\n",
       "      <td>7.2</td>\n",
       "      <td>3.2</td>\n",
       "      <td>6.0</td>\n",
       "      <td>1.8</td>\n",
       "      <td>virginica</td>\n",
       "    </tr>\n",
       "    <tr>\n",
       "      <th>129</th>\n",
       "      <td>7.2</td>\n",
       "      <td>3.0</td>\n",
       "      <td>5.8</td>\n",
       "      <td>1.6</td>\n",
       "      <td>virginica</td>\n",
       "    </tr>\n",
       "    <tr>\n",
       "      <th>130</th>\n",
       "      <td>7.4</td>\n",
       "      <td>2.8</td>\n",
       "      <td>6.1</td>\n",
       "      <td>1.9</td>\n",
       "      <td>virginica</td>\n",
       "    </tr>\n",
       "    <tr>\n",
       "      <th>139</th>\n",
       "      <td>6.9</td>\n",
       "      <td>3.1</td>\n",
       "      <td>5.4</td>\n",
       "      <td>2.1</td>\n",
       "      <td>virginica</td>\n",
       "    </tr>\n",
       "    <tr>\n",
       "      <th>141</th>\n",
       "      <td>6.9</td>\n",
       "      <td>3.1</td>\n",
       "      <td>5.1</td>\n",
       "      <td>2.3</td>\n",
       "      <td>virginica</td>\n",
       "    </tr>\n",
       "    <tr>\n",
       "      <th>143</th>\n",
       "      <td>6.8</td>\n",
       "      <td>3.2</td>\n",
       "      <td>5.9</td>\n",
       "      <td>2.3</td>\n",
       "      <td>virginica</td>\n",
       "    </tr>\n",
       "  </tbody>\n",
       "</table>\n",
       "</div>"
      ],
      "text/plain": [
       "     sepal_length  sepal_width  petal_length  petal_width     species\n",
       "50            7.0          3.2           4.7          1.4  versicolor\n",
       "52            6.9          3.1           4.9          1.5  versicolor\n",
       "76            6.8          2.8           4.8          1.4  versicolor\n",
       "102           7.1          3.0           5.9          2.1   virginica\n",
       "107           7.3          2.9           6.3          1.8   virginica\n",
       "109           7.2          3.6           6.1          2.5   virginica\n",
       "112           6.8          3.0           5.5          2.1   virginica\n",
       "120           6.9          3.2           5.7          2.3   virginica\n",
       "125           7.2          3.2           6.0          1.8   virginica\n",
       "129           7.2          3.0           5.8          1.6   virginica\n",
       "130           7.4          2.8           6.1          1.9   virginica\n",
       "139           6.9          3.1           5.4          2.1   virginica\n",
       "141           6.9          3.1           5.1          2.3   virginica\n",
       "143           6.8          3.2           5.9          2.3   virginica"
      ]
     },
     "execution_count": 8,
     "metadata": {},
     "output_type": "execute_result"
    }
   ],
   "source": [
    "iris[np.logical_and(iris['sepal_length'] > 6.7, iris['sepal_length'] < 7.5)]"
   ]
  },
  {
   "cell_type": "markdown",
   "id": "fd895a46",
   "metadata": {},
   "source": [
    " "
   ]
  },
  {
   "cell_type": "markdown",
   "id": "76b8c3df",
   "metadata": {},
   "source": [
    " "
   ]
  },
  {
   "cell_type": "markdown",
   "id": "57927c25",
   "metadata": {},
   "source": [
    "### if, elif, else"
   ]
  },
  {
   "cell_type": "markdown",
   "id": "0675a406",
   "metadata": {},
   "source": [
    "#### if"
   ]
  },
  {
   "cell_type": "code",
   "execution_count": 9,
   "id": "d6466992",
   "metadata": {},
   "outputs": [
    {
     "name": "stdout",
     "output_type": "stream",
     "text": [
      "Cheching 4\n",
      "4 is even\n"
     ]
    }
   ],
   "source": [
    "z = 4\n",
    "if z % 2 == 0:\n",
    "    print('Cheching ' + str(z))\n",
    "    print(str(z) + ' is even')"
   ]
  },
  {
   "cell_type": "code",
   "execution_count": 10,
   "id": "88dcbba0",
   "metadata": {},
   "outputs": [],
   "source": [
    "# Gdy warunek nie jest spełniony nie wyświetla się nic\n",
    "z = 5\n",
    "if z % 2 == 0:\n",
    "    print('Cheching ' + str(z))\n",
    "    print(str(z) + ' is even')"
   ]
  },
  {
   "cell_type": "markdown",
   "id": "9a4c0e33",
   "metadata": {},
   "source": [
    "#### else"
   ]
  },
  {
   "cell_type": "code",
   "execution_count": 11,
   "id": "b961aa72",
   "metadata": {},
   "outputs": [
    {
     "name": "stdout",
     "output_type": "stream",
     "text": [
      "Cheching 5\n",
      "5 is odd\n"
     ]
    }
   ],
   "source": [
    "z = 5\n",
    "if z % 2 == 0:\n",
    "    print('Cheching ' + str(z))\n",
    "    print(str(z) + ' is even')\n",
    "else:\n",
    "    print('Cheching ' + str(z))\n",
    "    print(str(z) + ' is odd')"
   ]
  },
  {
   "cell_type": "markdown",
   "id": "7d4f02a0",
   "metadata": {},
   "source": [
    "#### elif"
   ]
  },
  {
   "cell_type": "code",
   "execution_count": 12,
   "id": "6c8d48ba",
   "metadata": {},
   "outputs": [
    {
     "name": "stdout",
     "output_type": "stream",
     "text": [
      "medium\n"
     ]
    }
   ],
   "source": [
    "area = 10.0\n",
    "if(area < 9) :\n",
    "    print(\"small\")\n",
    "elif(area < 12) :\n",
    "    print(\"medium\")\n",
    "else :\n",
    "    print(\"large\")"
   ]
  },
  {
   "cell_type": "markdown",
   "id": "7abb1ac4",
   "metadata": {},
   "source": [
    " "
   ]
  },
  {
   "cell_type": "markdown",
   "id": "7f31fb37",
   "metadata": {},
   "source": [
    " "
   ]
  },
  {
   "cell_type": "code",
   "execution_count": 13,
   "id": "0981b44f",
   "metadata": {},
   "outputs": [
    {
     "name": "stdout",
     "output_type": "stream",
     "text": [
      "looking around in the kitchen.\n"
     ]
    }
   ],
   "source": [
    "room = 'kit'\n",
    "area = 14.0\n",
    "\n",
    "# if statement for room\n",
    "if room == \"kit\" :\n",
    "    print(\"looking around in the kitchen.\")"
   ]
  },
  {
   "cell_type": "code",
   "execution_count": 14,
   "id": "a24ca2ae",
   "metadata": {},
   "outputs": [
    {
     "name": "stdout",
     "output_type": "stream",
     "text": [
      "looking around in the kitchen.\n",
      "pretty small.\n"
     ]
    }
   ],
   "source": [
    "# if-else construct for room\n",
    "if room == \"kit\" :\n",
    "    print(\"looking around in the kitchen.\")\n",
    "else :\n",
    "    print(\"looking around elsewhere.\")\n",
    "\n",
    "# if-else construct for area\n",
    "if area > 15 :\n",
    "    print(\"big place!\")\n",
    "else:\n",
    "    print('pretty small.')"
   ]
  },
  {
   "cell_type": "code",
   "execution_count": 15,
   "id": "70b01579",
   "metadata": {},
   "outputs": [
    {
     "name": "stdout",
     "output_type": "stream",
     "text": [
      "looking around in the bedroom.\n",
      "medium size, nice!\n"
     ]
    }
   ],
   "source": [
    "# Define variables\n",
    "room = \"bed\"\n",
    "area = 14.0\n",
    "\n",
    "# if-elif-else construct for room\n",
    "if room == \"kit\" :\n",
    "    print(\"looking around in the kitchen.\")\n",
    "elif room == \"bed\":\n",
    "    print(\"looking around in the bedroom.\")\n",
    "else :\n",
    "    print(\"looking around elsewhere.\")\n",
    "\n",
    "# if-elif-else construct for area\n",
    "if area > 15 :\n",
    "    print(\"big place!\")\n",
    "elif area > 10:\n",
    "    print('medium size, nice!')\n",
    "else :\n",
    "    print(\"pretty small.\")"
   ]
  },
  {
   "cell_type": "markdown",
   "id": "bb443161",
   "metadata": {},
   "source": [
    " "
   ]
  },
  {
   "cell_type": "markdown",
   "id": "78fb3e20",
   "metadata": {},
   "source": [
    " "
   ]
  },
  {
   "cell_type": "markdown",
   "id": "930a9337",
   "metadata": {},
   "source": [
    " "
   ]
  },
  {
   "cell_type": "markdown",
   "id": "c59e97c4",
   "metadata": {},
   "source": [
    "### Filtering pandas DataFrames"
   ]
  },
  {
   "cell_type": "code",
   "execution_count": 16,
   "id": "fa9f10fe",
   "metadata": {},
   "outputs": [
    {
     "data": {
      "text/html": [
       "<div>\n",
       "<style scoped>\n",
       "    .dataframe tbody tr th:only-of-type {\n",
       "        vertical-align: middle;\n",
       "    }\n",
       "\n",
       "    .dataframe tbody tr th {\n",
       "        vertical-align: top;\n",
       "    }\n",
       "\n",
       "    .dataframe thead th {\n",
       "        text-align: right;\n",
       "    }\n",
       "</style>\n",
       "<table border=\"1\" class=\"dataframe\">\n",
       "  <thead>\n",
       "    <tr style=\"text-align: right;\">\n",
       "      <th></th>\n",
       "      <th>sepal_length</th>\n",
       "      <th>sepal_width</th>\n",
       "      <th>petal_length</th>\n",
       "      <th>petal_width</th>\n",
       "      <th>species</th>\n",
       "    </tr>\n",
       "  </thead>\n",
       "  <tbody>\n",
       "    <tr>\n",
       "      <th>0</th>\n",
       "      <td>5.1</td>\n",
       "      <td>3.5</td>\n",
       "      <td>1.4</td>\n",
       "      <td>0.2</td>\n",
       "      <td>setosa</td>\n",
       "    </tr>\n",
       "    <tr>\n",
       "      <th>1</th>\n",
       "      <td>4.9</td>\n",
       "      <td>3.0</td>\n",
       "      <td>1.4</td>\n",
       "      <td>0.2</td>\n",
       "      <td>setosa</td>\n",
       "    </tr>\n",
       "    <tr>\n",
       "      <th>2</th>\n",
       "      <td>4.7</td>\n",
       "      <td>3.2</td>\n",
       "      <td>1.3</td>\n",
       "      <td>0.2</td>\n",
       "      <td>setosa</td>\n",
       "    </tr>\n",
       "  </tbody>\n",
       "</table>\n",
       "</div>"
      ],
      "text/plain": [
       "   sepal_length  sepal_width  petal_length  petal_width species\n",
       "0           5.1          3.5           1.4          0.2  setosa\n",
       "1           4.9          3.0           1.4          0.2  setosa\n",
       "2           4.7          3.2           1.3          0.2  setosa"
      ]
     },
     "execution_count": 16,
     "metadata": {},
     "output_type": "execute_result"
    }
   ],
   "source": [
    "iris.head(3)"
   ]
  },
  {
   "cell_type": "code",
   "execution_count": 17,
   "id": "51eab742",
   "metadata": {},
   "outputs": [
    {
     "data": {
      "text/html": [
       "<div>\n",
       "<style scoped>\n",
       "    .dataframe tbody tr th:only-of-type {\n",
       "        vertical-align: middle;\n",
       "    }\n",
       "\n",
       "    .dataframe tbody tr th {\n",
       "        vertical-align: top;\n",
       "    }\n",
       "\n",
       "    .dataframe thead th {\n",
       "        text-align: right;\n",
       "    }\n",
       "</style>\n",
       "<table border=\"1\" class=\"dataframe\">\n",
       "  <thead>\n",
       "    <tr style=\"text-align: right;\">\n",
       "      <th></th>\n",
       "      <th>sepal_length</th>\n",
       "      <th>sepal_width</th>\n",
       "      <th>petal_length</th>\n",
       "      <th>petal_width</th>\n",
       "      <th>species</th>\n",
       "    </tr>\n",
       "  </thead>\n",
       "  <tbody>\n",
       "    <tr>\n",
       "      <th>105</th>\n",
       "      <td>7.6</td>\n",
       "      <td>3.0</td>\n",
       "      <td>6.6</td>\n",
       "      <td>2.1</td>\n",
       "      <td>virginica</td>\n",
       "    </tr>\n",
       "    <tr>\n",
       "      <th>107</th>\n",
       "      <td>7.3</td>\n",
       "      <td>2.9</td>\n",
       "      <td>6.3</td>\n",
       "      <td>1.8</td>\n",
       "      <td>virginica</td>\n",
       "    </tr>\n",
       "    <tr>\n",
       "      <th>109</th>\n",
       "      <td>7.2</td>\n",
       "      <td>3.6</td>\n",
       "      <td>6.1</td>\n",
       "      <td>2.5</td>\n",
       "      <td>virginica</td>\n",
       "    </tr>\n",
       "    <tr>\n",
       "      <th>117</th>\n",
       "      <td>7.7</td>\n",
       "      <td>3.8</td>\n",
       "      <td>6.7</td>\n",
       "      <td>2.2</td>\n",
       "      <td>virginica</td>\n",
       "    </tr>\n",
       "    <tr>\n",
       "      <th>118</th>\n",
       "      <td>7.7</td>\n",
       "      <td>2.6</td>\n",
       "      <td>6.9</td>\n",
       "      <td>2.3</td>\n",
       "      <td>virginica</td>\n",
       "    </tr>\n",
       "    <tr>\n",
       "      <th>122</th>\n",
       "      <td>7.7</td>\n",
       "      <td>2.8</td>\n",
       "      <td>6.7</td>\n",
       "      <td>2.0</td>\n",
       "      <td>virginica</td>\n",
       "    </tr>\n",
       "    <tr>\n",
       "      <th>130</th>\n",
       "      <td>7.4</td>\n",
       "      <td>2.8</td>\n",
       "      <td>6.1</td>\n",
       "      <td>1.9</td>\n",
       "      <td>virginica</td>\n",
       "    </tr>\n",
       "    <tr>\n",
       "      <th>131</th>\n",
       "      <td>7.9</td>\n",
       "      <td>3.8</td>\n",
       "      <td>6.4</td>\n",
       "      <td>2.0</td>\n",
       "      <td>virginica</td>\n",
       "    </tr>\n",
       "    <tr>\n",
       "      <th>135</th>\n",
       "      <td>7.7</td>\n",
       "      <td>3.0</td>\n",
       "      <td>6.1</td>\n",
       "      <td>2.3</td>\n",
       "      <td>virginica</td>\n",
       "    </tr>\n",
       "  </tbody>\n",
       "</table>\n",
       "</div>"
      ],
      "text/plain": [
       "     sepal_length  sepal_width  petal_length  petal_width    species\n",
       "105           7.6          3.0           6.6          2.1  virginica\n",
       "107           7.3          2.9           6.3          1.8  virginica\n",
       "109           7.2          3.6           6.1          2.5  virginica\n",
       "117           7.7          3.8           6.7          2.2  virginica\n",
       "118           7.7          2.6           6.9          2.3  virginica\n",
       "122           7.7          2.8           6.7          2.0  virginica\n",
       "130           7.4          2.8           6.1          1.9  virginica\n",
       "131           7.9          3.8           6.4          2.0  virginica\n",
       "135           7.7          3.0           6.1          2.3  virginica"
      ]
     },
     "execution_count": 17,
     "metadata": {},
     "output_type": "execute_result"
    }
   ],
   "source": [
    "iris[iris['petal_length'] > 6]"
   ]
  },
  {
   "cell_type": "code",
   "execution_count": 18,
   "id": "ecfa5573",
   "metadata": {},
   "outputs": [
    {
     "data": {
      "text/html": [
       "<div>\n",
       "<style scoped>\n",
       "    .dataframe tbody tr th:only-of-type {\n",
       "        vertical-align: middle;\n",
       "    }\n",
       "\n",
       "    .dataframe tbody tr th {\n",
       "        vertical-align: top;\n",
       "    }\n",
       "\n",
       "    .dataframe thead th {\n",
       "        text-align: right;\n",
       "    }\n",
       "</style>\n",
       "<table border=\"1\" class=\"dataframe\">\n",
       "  <thead>\n",
       "    <tr style=\"text-align: right;\">\n",
       "      <th></th>\n",
       "      <th>sepal_length</th>\n",
       "      <th>sepal_width</th>\n",
       "      <th>petal_length</th>\n",
       "      <th>petal_width</th>\n",
       "      <th>species</th>\n",
       "    </tr>\n",
       "  </thead>\n",
       "  <tbody>\n",
       "    <tr>\n",
       "      <th>102</th>\n",
       "      <td>7.1</td>\n",
       "      <td>3.0</td>\n",
       "      <td>5.9</td>\n",
       "      <td>2.1</td>\n",
       "      <td>virginica</td>\n",
       "    </tr>\n",
       "    <tr>\n",
       "      <th>103</th>\n",
       "      <td>6.3</td>\n",
       "      <td>2.9</td>\n",
       "      <td>5.6</td>\n",
       "      <td>1.8</td>\n",
       "      <td>virginica</td>\n",
       "    </tr>\n",
       "    <tr>\n",
       "      <th>104</th>\n",
       "      <td>6.5</td>\n",
       "      <td>3.0</td>\n",
       "      <td>5.8</td>\n",
       "      <td>2.2</td>\n",
       "      <td>virginica</td>\n",
       "    </tr>\n",
       "    <tr>\n",
       "      <th>108</th>\n",
       "      <td>6.7</td>\n",
       "      <td>2.5</td>\n",
       "      <td>5.8</td>\n",
       "      <td>1.8</td>\n",
       "      <td>virginica</td>\n",
       "    </tr>\n",
       "    <tr>\n",
       "      <th>120</th>\n",
       "      <td>6.9</td>\n",
       "      <td>3.2</td>\n",
       "      <td>5.7</td>\n",
       "      <td>2.3</td>\n",
       "      <td>virginica</td>\n",
       "    </tr>\n",
       "    <tr>\n",
       "      <th>124</th>\n",
       "      <td>6.7</td>\n",
       "      <td>3.3</td>\n",
       "      <td>5.7</td>\n",
       "      <td>2.1</td>\n",
       "      <td>virginica</td>\n",
       "    </tr>\n",
       "    <tr>\n",
       "      <th>128</th>\n",
       "      <td>6.4</td>\n",
       "      <td>2.8</td>\n",
       "      <td>5.6</td>\n",
       "      <td>2.1</td>\n",
       "      <td>virginica</td>\n",
       "    </tr>\n",
       "    <tr>\n",
       "      <th>129</th>\n",
       "      <td>7.2</td>\n",
       "      <td>3.0</td>\n",
       "      <td>5.8</td>\n",
       "      <td>1.6</td>\n",
       "      <td>virginica</td>\n",
       "    </tr>\n",
       "    <tr>\n",
       "      <th>132</th>\n",
       "      <td>6.4</td>\n",
       "      <td>2.8</td>\n",
       "      <td>5.6</td>\n",
       "      <td>2.2</td>\n",
       "      <td>virginica</td>\n",
       "    </tr>\n",
       "    <tr>\n",
       "      <th>134</th>\n",
       "      <td>6.1</td>\n",
       "      <td>2.6</td>\n",
       "      <td>5.6</td>\n",
       "      <td>1.4</td>\n",
       "      <td>virginica</td>\n",
       "    </tr>\n",
       "    <tr>\n",
       "      <th>136</th>\n",
       "      <td>6.3</td>\n",
       "      <td>3.4</td>\n",
       "      <td>5.6</td>\n",
       "      <td>2.4</td>\n",
       "      <td>virginica</td>\n",
       "    </tr>\n",
       "    <tr>\n",
       "      <th>140</th>\n",
       "      <td>6.7</td>\n",
       "      <td>3.1</td>\n",
       "      <td>5.6</td>\n",
       "      <td>2.4</td>\n",
       "      <td>virginica</td>\n",
       "    </tr>\n",
       "    <tr>\n",
       "      <th>143</th>\n",
       "      <td>6.8</td>\n",
       "      <td>3.2</td>\n",
       "      <td>5.9</td>\n",
       "      <td>2.3</td>\n",
       "      <td>virginica</td>\n",
       "    </tr>\n",
       "    <tr>\n",
       "      <th>144</th>\n",
       "      <td>6.7</td>\n",
       "      <td>3.3</td>\n",
       "      <td>5.7</td>\n",
       "      <td>2.5</td>\n",
       "      <td>virginica</td>\n",
       "    </tr>\n",
       "  </tbody>\n",
       "</table>\n",
       "</div>"
      ],
      "text/plain": [
       "     sepal_length  sepal_width  petal_length  petal_width    species\n",
       "102           7.1          3.0           5.9          2.1  virginica\n",
       "103           6.3          2.9           5.6          1.8  virginica\n",
       "104           6.5          3.0           5.8          2.2  virginica\n",
       "108           6.7          2.5           5.8          1.8  virginica\n",
       "120           6.9          3.2           5.7          2.3  virginica\n",
       "124           6.7          3.3           5.7          2.1  virginica\n",
       "128           6.4          2.8           5.6          2.1  virginica\n",
       "129           7.2          3.0           5.8          1.6  virginica\n",
       "132           6.4          2.8           5.6          2.2  virginica\n",
       "134           6.1          2.6           5.6          1.4  virginica\n",
       "136           6.3          3.4           5.6          2.4  virginica\n",
       "140           6.7          3.1           5.6          2.4  virginica\n",
       "143           6.8          3.2           5.9          2.3  virginica\n",
       "144           6.7          3.3           5.7          2.5  virginica"
      ]
     },
     "execution_count": 18,
     "metadata": {},
     "output_type": "execute_result"
    }
   ],
   "source": [
    "# Pierwszy sposób\n",
    "iris[(iris['petal_length'] <6) & (iris['petal_length'] > 5.5)]"
   ]
  },
  {
   "cell_type": "code",
   "execution_count": 19,
   "id": "d759eeb8",
   "metadata": {},
   "outputs": [
    {
     "data": {
      "text/html": [
       "<div>\n",
       "<style scoped>\n",
       "    .dataframe tbody tr th:only-of-type {\n",
       "        vertical-align: middle;\n",
       "    }\n",
       "\n",
       "    .dataframe tbody tr th {\n",
       "        vertical-align: top;\n",
       "    }\n",
       "\n",
       "    .dataframe thead th {\n",
       "        text-align: right;\n",
       "    }\n",
       "</style>\n",
       "<table border=\"1\" class=\"dataframe\">\n",
       "  <thead>\n",
       "    <tr style=\"text-align: right;\">\n",
       "      <th></th>\n",
       "      <th>sepal_length</th>\n",
       "      <th>sepal_width</th>\n",
       "      <th>petal_length</th>\n",
       "      <th>petal_width</th>\n",
       "      <th>species</th>\n",
       "    </tr>\n",
       "  </thead>\n",
       "  <tbody>\n",
       "    <tr>\n",
       "      <th>59</th>\n",
       "      <td>5.2</td>\n",
       "      <td>2.7</td>\n",
       "      <td>3.9</td>\n",
       "      <td>1.4</td>\n",
       "      <td>versicolor</td>\n",
       "    </tr>\n",
       "    <tr>\n",
       "      <th>64</th>\n",
       "      <td>5.6</td>\n",
       "      <td>2.9</td>\n",
       "      <td>3.6</td>\n",
       "      <td>1.3</td>\n",
       "      <td>versicolor</td>\n",
       "    </tr>\n",
       "    <tr>\n",
       "      <th>69</th>\n",
       "      <td>5.6</td>\n",
       "      <td>2.5</td>\n",
       "      <td>3.9</td>\n",
       "      <td>1.1</td>\n",
       "      <td>versicolor</td>\n",
       "    </tr>\n",
       "    <tr>\n",
       "      <th>80</th>\n",
       "      <td>5.5</td>\n",
       "      <td>2.4</td>\n",
       "      <td>3.8</td>\n",
       "      <td>1.1</td>\n",
       "      <td>versicolor</td>\n",
       "    </tr>\n",
       "    <tr>\n",
       "      <th>81</th>\n",
       "      <td>5.5</td>\n",
       "      <td>2.4</td>\n",
       "      <td>3.7</td>\n",
       "      <td>1.0</td>\n",
       "      <td>versicolor</td>\n",
       "    </tr>\n",
       "    <tr>\n",
       "      <th>82</th>\n",
       "      <td>5.8</td>\n",
       "      <td>2.7</td>\n",
       "      <td>3.9</td>\n",
       "      <td>1.2</td>\n",
       "      <td>versicolor</td>\n",
       "    </tr>\n",
       "  </tbody>\n",
       "</table>\n",
       "</div>"
      ],
      "text/plain": [
       "    sepal_length  sepal_width  petal_length  petal_width     species\n",
       "59           5.2          2.7           3.9          1.4  versicolor\n",
       "64           5.6          2.9           3.6          1.3  versicolor\n",
       "69           5.6          2.5           3.9          1.1  versicolor\n",
       "80           5.5          2.4           3.8          1.1  versicolor\n",
       "81           5.5          2.4           3.7          1.0  versicolor\n",
       "82           5.8          2.7           3.9          1.2  versicolor"
      ]
     },
     "execution_count": 19,
     "metadata": {},
     "output_type": "execute_result"
    }
   ],
   "source": [
    "# Drugi sposób\n",
    "iris[np.logical_and(iris['petal_length'] >3.5, iris['petal_length'] <4)]"
   ]
  },
  {
   "cell_type": "markdown",
   "id": "e5ee3c22",
   "metadata": {},
   "source": [
    " "
   ]
  },
  {
   "cell_type": "markdown",
   "id": "16d34860",
   "metadata": {},
   "source": [
    " "
   ]
  },
  {
   "cell_type": "markdown",
   "id": "7c1a4ae2",
   "metadata": {},
   "source": [
    " "
   ]
  },
  {
   "cell_type": "markdown",
   "id": "d6fe12c3",
   "metadata": {},
   "source": [
    "## Loops"
   ]
  },
  {
   "cell_type": "markdown",
   "id": "f5df3bc7",
   "metadata": {},
   "source": [
    "### while loop"
   ]
  },
  {
   "cell_type": "code",
   "execution_count": 20,
   "id": "cdbc1101",
   "metadata": {},
   "outputs": [
    {
     "name": "stdout",
     "output_type": "stream",
     "text": [
      "12.5\n",
      "3.125\n",
      "0.78125\n"
     ]
    }
   ],
   "source": [
    "error = 50\n",
    "\n",
    "while error > 1:\n",
    "    error = error / 4\n",
    "    print(error)"
   ]
  },
  {
   "cell_type": "code",
   "execution_count": 21,
   "id": "c5a84eaf",
   "metadata": {},
   "outputs": [
    {
     "name": "stdout",
     "output_type": "stream",
     "text": [
      "correcting...\n",
      "4\n",
      "correcting...\n",
      "3\n",
      "correcting...\n",
      "2\n",
      "correcting...\n",
      "1\n",
      "correcting...\n",
      "0\n"
     ]
    }
   ],
   "source": [
    "# Initialize offset\n",
    "offset = 5\n",
    "\n",
    "# Code the while loop\n",
    "while offset != 0 :\n",
    "    print(\"correcting...\")\n",
    "    offset = offset - 1\n",
    "    print(offset)"
   ]
  },
  {
   "cell_type": "code",
   "execution_count": 22,
   "id": "c5929623",
   "metadata": {},
   "outputs": [
    {
     "name": "stdout",
     "output_type": "stream",
     "text": [
      "correcting...\n",
      "-5\n",
      "correcting...\n",
      "-4\n",
      "correcting...\n",
      "-3\n",
      "correcting...\n",
      "-2\n",
      "correcting...\n",
      "-1\n",
      "correcting...\n",
      "0\n"
     ]
    }
   ],
   "source": [
    "# Initialize offset\n",
    "offset = -6\n",
    "\n",
    "# Code the while loop\n",
    "while offset != 0 :\n",
    "    print(\"correcting...\")\n",
    "    if offset > 0 :\n",
    "      offset = offset - 1\n",
    "    else : \n",
    "      offset = offset + 1    \n",
    "    print(offset)"
   ]
  },
  {
   "cell_type": "markdown",
   "id": "8a586b82",
   "metadata": {},
   "source": [
    " "
   ]
  },
  {
   "cell_type": "markdown",
   "id": "baf7019a",
   "metadata": {},
   "source": [
    " "
   ]
  },
  {
   "cell_type": "markdown",
   "id": "22b05d75",
   "metadata": {},
   "source": [
    "### for loop"
   ]
  },
  {
   "cell_type": "code",
   "execution_count": 23,
   "id": "1fc6ea29",
   "metadata": {},
   "outputs": [
    {
     "name": "stdout",
     "output_type": "stream",
     "text": [
      "1.74\n",
      "1.75\n",
      "1.88\n",
      "1.64\n",
      "1.95\n"
     ]
    }
   ],
   "source": [
    "fam = [1.74, 1.75, 1.88, 1.64, 1.95]\n",
    "\n",
    "for height in fam:\n",
    "    print(height)"
   ]
  },
  {
   "cell_type": "code",
   "execution_count": 24,
   "id": "9ed06541",
   "metadata": {},
   "outputs": [
    {
     "name": "stdout",
     "output_type": "stream",
     "text": [
      "index 0: 1.74\n",
      "index 1: 1.75\n",
      "index 2: 1.88\n",
      "index 3: 1.64\n",
      "index 4: 1.95\n"
     ]
    }
   ],
   "source": [
    "for index, height in enumerate(fam):\n",
    "    print('index ' + str(index) + ': ' + str(height))"
   ]
  },
  {
   "cell_type": "code",
   "execution_count": 25,
   "id": "2720fb3d",
   "metadata": {},
   "outputs": [
    {
     "name": "stdout",
     "output_type": "stream",
     "text": [
      "F\n",
      "A\n",
      "M\n",
      "I\n",
      "L\n",
      "Y\n"
     ]
    }
   ],
   "source": [
    "for c in 'family':\n",
    "    print(c.capitalize())"
   ]
  },
  {
   "cell_type": "markdown",
   "id": "c696f189",
   "metadata": {},
   "source": [
    "##### List"
   ]
  },
  {
   "cell_type": "code",
   "execution_count": 26,
   "id": "99c0169c",
   "metadata": {},
   "outputs": [
    {
     "name": "stdout",
     "output_type": "stream",
     "text": [
      "index 0: 11.25\n",
      "index 1: 18.0\n",
      "index 2: 20.0\n",
      "index 3: 10.75\n",
      "index 4: 9.5\n"
     ]
    }
   ],
   "source": [
    "# areas list\n",
    "areas = [11.25, 18.0, 20.0, 10.75, 9.5]\n",
    "\n",
    "# Change for loop to use enumerate() and update print()\n",
    "for index,areas in enumerate(areas) :\n",
    "    print('index ' + str(index)+ ': ' + str(areas))"
   ]
  },
  {
   "cell_type": "code",
   "execution_count": 27,
   "id": "3a2131bb",
   "metadata": {},
   "outputs": [
    {
     "name": "stdout",
     "output_type": "stream",
     "text": [
      "room 1: 11.25\n",
      "room 2: 18.0\n",
      "room 3: 20.0\n",
      "room 4: 10.75\n",
      "room 5: 9.5\n"
     ]
    }
   ],
   "source": [
    "# areas list\n",
    "areas = [11.25, 18.0, 20.0, 10.75, 9.50]\n",
    "\n",
    "# Code the for loop\n",
    "for index, area in enumerate(areas) :\n",
    "    print(\"room \" + str(index + 1) + \": \" + str(area))"
   ]
  },
  {
   "cell_type": "code",
   "execution_count": 28,
   "id": "ccfbfc47",
   "metadata": {},
   "outputs": [
    {
     "name": "stdout",
     "output_type": "stream",
     "text": [
      "the hallway is 11.25 sqm\n",
      "the kitchen is 18.0 sqm\n",
      "the living room is 20.0 sqm\n",
      "the bedroom is 10.75 sqm\n",
      "the bathroom is 9.5 sqm\n"
     ]
    }
   ],
   "source": [
    "# house list of lists\n",
    "house = [[\"hallway\", 11.25], \n",
    "         [\"kitchen\", 18.0], \n",
    "         [\"living room\", 20.0], \n",
    "         [\"bedroom\", 10.75], \n",
    "         [\"bathroom\", 9.50]]\n",
    "         \n",
    "# Build a for loop from scratch\n",
    "for room in house:\n",
    "    print('the ' + room[0] + ' is ' + str(room[1]) + ' sqm')"
   ]
  },
  {
   "cell_type": "markdown",
   "id": "60ad4461",
   "metadata": {},
   "source": [
    "##### Dictionary"
   ]
  },
  {
   "cell_type": "code",
   "execution_count": 29,
   "id": "7dee47f5",
   "metadata": {},
   "outputs": [
    {
     "name": "stdout",
     "output_type": "stream",
     "text": [
      "The capital of Spain is Madrid\n",
      "The capital of France is Paris\n",
      "The capital of Germany is Berlin\n",
      "The capital of Norway is Oslo\n",
      "The capital of Italy is Rome\n",
      "The capital of Poland is Warsaw\n",
      "The capital of Austria is Vienna\n"
     ]
    }
   ],
   "source": [
    "# Definition of dictionary\n",
    "europe = {'spain':'madrid', 'france':'paris', 'germany':'berlin',\n",
    "          'norway':'oslo', 'italy':'rome', 'poland':'warsaw', 'austria':'vienna' }\n",
    "          \n",
    "# Iterate over europe\n",
    "for country, capital in europe.items():\n",
    "    print('The capital of ' + country.capitalize() + ' is ' + capital.capitalize())"
   ]
  },
  {
   "cell_type": "markdown",
   "id": "970792d6",
   "metadata": {},
   "source": [
    " "
   ]
  },
  {
   "cell_type": "markdown",
   "id": "b83aa67a",
   "metadata": {},
   "source": [
    "### Data frame"
   ]
  },
  {
   "cell_type": "code",
   "execution_count": 30,
   "id": "a43e0952",
   "metadata": {},
   "outputs": [
    {
     "data": {
      "text/html": [
       "<div>\n",
       "<style scoped>\n",
       "    .dataframe tbody tr th:only-of-type {\n",
       "        vertical-align: middle;\n",
       "    }\n",
       "\n",
       "    .dataframe tbody tr th {\n",
       "        vertical-align: top;\n",
       "    }\n",
       "\n",
       "    .dataframe thead th {\n",
       "        text-align: right;\n",
       "    }\n",
       "</style>\n",
       "<table border=\"1\" class=\"dataframe\">\n",
       "  <thead>\n",
       "    <tr style=\"text-align: right;\">\n",
       "      <th></th>\n",
       "      <th>LP</th>\n",
       "      <th>Imię</th>\n",
       "      <th>Nazwisko</th>\n",
       "      <th>Data urodzenia</th>\n",
       "      <th>Kolor oczu</th>\n",
       "      <th>Płeć</th>\n",
       "      <th>Wzrost</th>\n",
       "      <th>Waga</th>\n",
       "      <th>Włosy</th>\n",
       "      <th>Zarobki</th>\n",
       "      <th>Premia</th>\n",
       "      <th>Miejscowość</th>\n",
       "      <th>Zawód</th>\n",
       "      <th>samochód</th>\n",
       "      <th>E-mail</th>\n",
       "      <th>Telefon</th>\n",
       "      <th>Ważność badań</th>\n",
       "    </tr>\n",
       "  </thead>\n",
       "  <tbody>\n",
       "    <tr>\n",
       "      <th>0</th>\n",
       "      <td>1</td>\n",
       "      <td>Katarzyna</td>\n",
       "      <td>Kijowska</td>\n",
       "      <td>1985-08-20</td>\n",
       "      <td>zielone</td>\n",
       "      <td>kobieta</td>\n",
       "      <td>167</td>\n",
       "      <td>72</td>\n",
       "      <td>ciemny blond</td>\n",
       "      <td>6328.289309</td>\n",
       "      <td>350</td>\n",
       "      <td>Łódź</td>\n",
       "      <td>fryzjer</td>\n",
       "      <td>BMW</td>\n",
       "      <td>k.kijowska@onet.pl</td>\n",
       "      <td>48615273705</td>\n",
       "      <td>2012-02-28</td>\n",
       "    </tr>\n",
       "    <tr>\n",
       "      <th>1</th>\n",
       "      <td>2</td>\n",
       "      <td>Łukasz</td>\n",
       "      <td>Durzyński</td>\n",
       "      <td>1982-07-20</td>\n",
       "      <td>szare</td>\n",
       "      <td>mężczyzna</td>\n",
       "      <td>157</td>\n",
       "      <td>72</td>\n",
       "      <td>brązowe</td>\n",
       "      <td>8916.285359</td>\n",
       "      <td>200</td>\n",
       "      <td>Sochaczew</td>\n",
       "      <td>elektryk</td>\n",
       "      <td>Fiat</td>\n",
       "      <td>l.durzynski@onet.pl</td>\n",
       "      <td>48500563767</td>\n",
       "      <td>2011-01-02</td>\n",
       "    </tr>\n",
       "    <tr>\n",
       "      <th>2</th>\n",
       "      <td>3</td>\n",
       "      <td>Katarzyna</td>\n",
       "      <td>Liszowska</td>\n",
       "      <td>1979-05-17</td>\n",
       "      <td>piwne</td>\n",
       "      <td>kobieta</td>\n",
       "      <td>158</td>\n",
       "      <td>72</td>\n",
       "      <td>ciemny blond</td>\n",
       "      <td>7397.881917</td>\n",
       "      <td>250</td>\n",
       "      <td>Gdańsk</td>\n",
       "      <td>ekonomista</td>\n",
       "      <td>Mercedes</td>\n",
       "      <td>k.lisz@onet.pl</td>\n",
       "      <td>48619422921</td>\n",
       "      <td>2011-07-20</td>\n",
       "    </tr>\n",
       "  </tbody>\n",
       "</table>\n",
       "</div>"
      ],
      "text/plain": [
       "   LP       Imię   Nazwisko Data urodzenia Kolor oczu       Płeć  Wzrost  \\\n",
       "0   1  Katarzyna   Kijowska     1985-08-20    zielone    kobieta     167   \n",
       "1   2     Łukasz  Durzyński     1982-07-20      szare  mężczyzna     157   \n",
       "2   3  Katarzyna  Liszowska     1979-05-17      piwne    kobieta     158   \n",
       "\n",
       "   Waga         Włosy      Zarobki  Premia Miejscowość       Zawód  samochód  \\\n",
       "0    72  ciemny blond  6328.289309     350        Łódź     fryzjer       BMW   \n",
       "1    72       brązowe  8916.285359     200   Sochaczew    elektryk      Fiat   \n",
       "2    72  ciemny blond  7397.881917     250      Gdańsk  ekonomista  Mercedes   \n",
       "\n",
       "                E-mail      Telefon Ważność badań  \n",
       "0   k.kijowska@onet.pl  48615273705    2012-02-28  \n",
       "1  l.durzynski@onet.pl  48500563767    2011-01-02  \n",
       "2       k.lisz@onet.pl  48619422921    2011-07-20  "
      ]
     },
     "execution_count": 30,
     "metadata": {},
     "output_type": "execute_result"
    }
   ],
   "source": [
    "spis = pd.read_excel(r'C:\\Users\\GRZEGORZ\\OneDrive\\Dokumenty\\Excel\\Spis.xlsx')\n",
    "spis.head(3)"
   ]
  },
  {
   "cell_type": "code",
   "execution_count": 31,
   "id": "72d5ad8c",
   "metadata": {},
   "outputs": [
    {
     "name": "stdout",
     "output_type": "stream",
     "text": [
      "Row 0:\n",
      "Imię        Katarzyna\n",
      "Nazwisko     Kijowska\n",
      "Name: 0, dtype: object\n",
      "Row 1:\n",
      "Imię           Łukasz\n",
      "Nazwisko    Durzyński\n",
      "Name: 1, dtype: object\n",
      "Row 2:\n",
      "Imię        Katarzyna\n",
      "Nazwisko    Liszowska\n",
      "Name: 2, dtype: object\n",
      "Row 3:\n",
      "Imię        Katarzyna\n",
      "Nazwisko       Szwarc\n",
      "Name: 3, dtype: object\n",
      "Row 4:\n",
      "Imię        Małgorzata\n",
      "Nazwisko      Nawrocka\n",
      "Name: 4, dtype: object\n",
      "Row 5:\n",
      "Imię         Franciszek\n",
      "Nazwisko    Stefanowski\n",
      "Name: 5, dtype: object\n",
      "Row 6:\n",
      "Imię         Jacek\n",
      "Nazwisko    Budner\n",
      "Name: 6, dtype: object\n",
      "Row 7:\n",
      "Imię          Ewa\n",
      "Nazwisko    Skiba\n",
      "Name: 7, dtype: object\n",
      "Row 8:\n",
      "Imię           Marta\n",
      "Nazwisko    Adamczyk\n",
      "Name: 8, dtype: object\n",
      "Row 9:\n",
      "Imię        Marcin\n",
      "Nazwisko    Piesek\n",
      "Name: 9, dtype: object\n",
      "Row 10:\n",
      "Imię        Rafał\n",
      "Nazwisko    Jaroń\n",
      "Name: 10, dtype: object\n",
      "Row 11:\n",
      "Imię         Edyta\n",
      "Nazwisko    Wolska\n",
      "Name: 11, dtype: object\n",
      "Row 12:\n",
      "Imię        Renata\n",
      "Nazwisko     Panek\n",
      "Name: 12, dtype: object\n",
      "Row 13:\n",
      "Imię             Dorota\n",
      "Nazwisko    Dziergowska\n",
      "Name: 13, dtype: object\n",
      "Row 14:\n",
      "Imię         Rafał\n",
      "Nazwisko    Sobota\n",
      "Name: 14, dtype: object\n",
      "Row 15:\n",
      "Imię        Magdalena\n",
      "Nazwisko    Gadzińska\n",
      "Name: 15, dtype: object\n",
      "Row 16:\n",
      "Imię            Barbara\n",
      "Nazwisko    Feliga-Ampt\n",
      "Name: 16, dtype: object\n",
      "Row 17:\n",
      "Imię         Mariusz\n",
      "Nazwisko    Kotowski\n",
      "Name: 17, dtype: object\n",
      "Row 18:\n",
      "Imię             Aneta\n",
      "Nazwisko    Wróblewska\n",
      "Name: 18, dtype: object\n",
      "Row 19:\n",
      "Imię         Jarosław\n",
      "Nazwisko    Tręboszka\n",
      "Name: 19, dtype: object\n",
      "Row 20:\n",
      "Imię         Artur\n",
      "Nazwisko    Rączka\n",
      "Name: 20, dtype: object\n",
      "Row 21:\n",
      "Imię         Wioletta\n",
      "Nazwisko    Szymańska\n",
      "Name: 21, dtype: object\n",
      "Row 22:\n",
      "Imię          Katarzyna\n",
      "Nazwisko    Ściechurska\n",
      "Name: 22, dtype: object\n",
      "Row 23:\n",
      "Imię        Sławomir\n",
      "Nazwisko      Błazik\n",
      "Name: 23, dtype: object\n",
      "Row 24:\n",
      "Imię            Darlena\n",
      "Nazwisko    Fabijańczyk\n",
      "Name: 24, dtype: object\n",
      "Row 25:\n",
      "Imię        Piotr\n",
      "Nazwisko    Zając\n",
      "Name: 25, dtype: object\n",
      "Row 26:\n",
      "Imię         Dariusz\n",
      "Nazwisko    Goryniak\n",
      "Name: 26, dtype: object\n",
      "Row 27:\n",
      "Imię           Katarzyna\n",
      "Nazwisko    Pływaczewska\n",
      "Name: 27, dtype: object\n",
      "Row 28:\n",
      "Imię         Wioletta\n",
      "Nazwisko    Siemińska\n",
      "Name: 28, dtype: object\n",
      "Row 29:\n",
      "Imię        Wioletta\n",
      "Nazwisko    Uszyńska\n",
      "Name: 29, dtype: object\n",
      "Row 30:\n",
      "Imię         Monika\n",
      "Nazwisko    Pałyska\n",
      "Name: 30, dtype: object\n",
      "Row 31:\n",
      "Imię           Rafał\n",
      "Nazwisko    Filipiak\n",
      "Name: 31, dtype: object\n",
      "Row 32:\n",
      "Imię        Agnieszka\n",
      "Nazwisko        Izak \n",
      "Name: 32, dtype: object\n",
      "Row 33:\n",
      "Imię           Agnieszka\n",
      "Nazwisko    Bartoszewska\n",
      "Name: 33, dtype: object\n",
      "Row 34:\n",
      "Imię          Joanna\n",
      "Nazwisko    Szczęsna\n",
      "Name: 34, dtype: object\n",
      "Row 35:\n",
      "Imię         Radosław\n",
      "Nazwisko    Turkowski\n",
      "Name: 35, dtype: object\n",
      "Row 36:\n",
      "Imię           Paweł\n",
      "Nazwisko    Krawczyk\n",
      "Name: 36, dtype: object\n",
      "Row 37:\n",
      "Imię         Sylwester\n",
      "Nazwisko    Wasilewski\n",
      "Name: 37, dtype: object\n",
      "Row 38:\n",
      "Imię            Justyna\n",
      "Nazwisko    Maliszewska\n",
      "Name: 38, dtype: object\n",
      "Row 39:\n",
      "Imię           Halina\n",
      "Nazwisko    Franaszek\n",
      "Name: 39, dtype: object\n",
      "Row 40:\n",
      "Imię           Jacek\n",
      "Nazwisko    Urbaniak\n",
      "Name: 40, dtype: object\n",
      "Row 41:\n",
      "Imię        Wioletta\n",
      "Nazwisko     Misiak \n",
      "Name: 41, dtype: object\n",
      "Row 42:\n",
      "Imię           Marlena\n",
      "Nazwisko    Talarowska\n",
      "Name: 42, dtype: object\n",
      "Row 43:\n",
      "Imię        Radosław\n",
      "Nazwisko       Kopeć\n",
      "Name: 43, dtype: object\n",
      "Row 44:\n",
      "Imię           Hanna\n",
      "Nazwisko    Wójcicka\n",
      "Name: 44, dtype: object\n",
      "Row 45:\n",
      "Imię           Emil\n",
      "Nazwisko    Stasiak\n",
      "Name: 45, dtype: object\n",
      "Row 46:\n",
      "Imię          Szczepan\n",
      "Nazwisko    Kitajewski\n",
      "Name: 46, dtype: object\n",
      "Row 47:\n",
      "Imię          Tomasz\n",
      "Nazwisko    Klimczak\n",
      "Name: 47, dtype: object\n",
      "Row 48:\n",
      "Imię        Arkadiusz\n",
      "Nazwisko      Rejniak\n",
      "Name: 48, dtype: object\n",
      "Row 49:\n",
      "Imię            Jacek\n",
      "Nazwisko    Gostyński\n",
      "Name: 49, dtype: object\n",
      "Row 50:\n",
      "Imię        Karolina\n",
      "Nazwisko    Jaworska\n",
      "Name: 50, dtype: object\n",
      "Row 51:\n",
      "Imię           Daniel\n",
      "Nazwisko    Jabłoński\n",
      "Name: 51, dtype: object\n",
      "Row 52:\n",
      "Imię          Joanna\n",
      "Nazwisko    Pasińska\n",
      "Name: 52, dtype: object\n",
      "Row 53:\n",
      "Imię        Magdalena\n",
      "Nazwisko    Stempniak\n",
      "Name: 53, dtype: object\n",
      "Row 54:\n",
      "Imię           Marcin\n",
      "Nazwisko    Bednarski\n",
      "Name: 54, dtype: object\n",
      "Row 55:\n",
      "Imię        Mariola\n",
      "Nazwisko    Czapigo\n",
      "Name: 55, dtype: object\n",
      "Row 56:\n",
      "Imię          Mariusz\n",
      "Nazwisko    Szymański\n",
      "Name: 56, dtype: object\n",
      "Row 57:\n",
      "Imię           Radosław\n",
      "Nazwisko    Stefanowski\n",
      "Name: 57, dtype: object\n",
      "Row 58:\n",
      "Imię             Piotr\n",
      "Nazwisko    Białkowski\n",
      "Name: 58, dtype: object\n",
      "Row 59:\n",
      "Imię         Artur\n",
      "Nazwisko    Pakuła\n",
      "Name: 59, dtype: object\n",
      "Row 60:\n",
      "Imię         Monika\n",
      "Nazwisko    Łukasik\n",
      "Name: 60, dtype: object\n",
      "Row 61:\n",
      "Imię           Piotr\n",
      "Nazwisko    Selerski\n",
      "Name: 61, dtype: object\n",
      "Row 62:\n",
      "Imię        Dominik\n",
      "Nazwisko    Jażdżyk\n",
      "Name: 62, dtype: object\n",
      "Row 63:\n",
      "Imię         Adam\n",
      "Nazwisko    Burno\n",
      "Name: 63, dtype: object\n",
      "Row 64:\n",
      "Imię            Ireneusz\n",
      "Nazwisko    Przybyłowski\n",
      "Name: 64, dtype: object\n",
      "Row 65:\n",
      "Imię           Wioletta\n",
      "Nazwisko    Kaczmarczyk\n",
      "Name: 65, dtype: object\n",
      "Row 66:\n",
      "Imię           Wojciech\n",
      "Nazwisko    Gałuszewski\n",
      "Name: 66, dtype: object\n",
      "Row 67:\n",
      "Imię          Nikodem\n",
      "Nazwisko    Jaskulski\n",
      "Name: 67, dtype: object\n",
      "Row 68:\n",
      "Imię        Krzysztof\n",
      "Nazwisko       Klocek\n",
      "Name: 68, dtype: object\n",
      "Row 69:\n",
      "Imię        Przemysław\n",
      "Nazwisko     Olenderek\n",
      "Name: 69, dtype: object\n",
      "Row 70:\n",
      "Imię        Andrzej\n",
      "Nazwisko      Kulis\n",
      "Name: 70, dtype: object\n",
      "Row 71:\n",
      "Imię         Michał\n",
      "Nazwisko    Misztal\n",
      "Name: 71, dtype: object\n",
      "Row 72:\n",
      "Imię            Aneta\n",
      "Nazwisko    Wachowska\n",
      "Name: 72, dtype: object\n",
      "Row 73:\n",
      "Imię           Paweł\n",
      "Nazwisko    Cywiński\n",
      "Name: 73, dtype: object\n",
      "Row 74:\n",
      "Imię             Łukasz\n",
      "Nazwisko    Denisiewicz\n",
      "Name: 74, dtype: object\n",
      "Row 75:\n",
      "Imię           Joanna\n",
      "Nazwisko    Lepieszka\n",
      "Name: 75, dtype: object\n",
      "Row 76:\n",
      "Imię          Bogdan\n",
      "Nazwisko    Kisiołek\n",
      "Name: 76, dtype: object\n",
      "Row 77:\n",
      "Imię        Agnieszka\n",
      "Nazwisko     Chojecka\n",
      "Name: 77, dtype: object\n",
      "Row 78:\n",
      "Imię          Piotr\n",
      "Nazwisko    Okoński\n",
      "Name: 78, dtype: object\n",
      "Row 79:\n",
      "Imię        Katarzyna\n",
      "Nazwisko     Ignasiak\n",
      "Name: 79, dtype: object\n",
      "Row 80:\n",
      "Imię         Krzysztof\n",
      "Nazwisko    Ganczarski\n",
      "Name: 80, dtype: object\n",
      "Row 81:\n",
      "Imię         Justyna\n",
      "Nazwisko    Zatorska\n",
      "Name: 81, dtype: object\n",
      "Row 82:\n",
      "Imię        Krzysztof\n",
      "Nazwisko    Flakowski\n",
      "Name: 82, dtype: object\n",
      "Row 83:\n",
      "Imię        Tomasz\n",
      "Nazwisko    Tomala\n",
      "Name: 83, dtype: object\n",
      "Row 84:\n",
      "Imię            Justyna\n",
      "Nazwisko    Mikołajczyk\n",
      "Name: 84, dtype: object\n",
      "Row 85:\n",
      "Imię            Rafał\n",
      "Nazwisko    Rutkowski\n",
      "Name: 85, dtype: object\n",
      "Row 86:\n",
      "Imię         Łukasz\n",
      "Nazwisko    Majcher\n",
      "Name: 86, dtype: object\n",
      "Row 87:\n",
      "Imię            Marcin\n",
      "Nazwisko    Wiśniewski\n",
      "Name: 87, dtype: object\n",
      "Row 88:\n",
      "Imię        Wiesława\n",
      "Nazwisko     Wysocka\n",
      "Name: 88, dtype: object\n",
      "Row 89:\n",
      "Imię        Piotr\n",
      "Nazwisko    Kubik\n",
      "Name: 89, dtype: object\n",
      "Row 90:\n",
      "Imię         Arkadiusz\n",
      "Nazwisko    Ciechomski\n",
      "Name: 90, dtype: object\n",
      "Row 91:\n",
      "Imię           Ilona\n",
      "Nazwisko    Zawadzka\n",
      "Name: 91, dtype: object\n",
      "Row 92:\n",
      "Imię          Adam\n",
      "Nazwisko    Wigier\n",
      "Name: 92, dtype: object\n",
      "Row 93:\n",
      "Imię        Wioletta\n",
      "Nazwisko       Wosik\n",
      "Name: 93, dtype: object\n",
      "Row 94:\n",
      "Imię        Łukasz\n",
      "Nazwisko    Czułek\n",
      "Name: 94, dtype: object\n",
      "Row 95:\n",
      "Imię        Jarosław\n",
      "Nazwisko     Woźniak\n",
      "Name: 95, dtype: object\n",
      "Row 96:\n",
      "Imię           Paweł\n",
      "Nazwisko    Dębowski\n",
      "Name: 96, dtype: object\n",
      "Row 97:\n",
      "Imię        Sylwia\n",
      "Nazwisko     Pająk\n",
      "Name: 97, dtype: object\n",
      "Row 98:\n",
      "Imię        Małgorzata\n",
      "Nazwisko         Motel\n",
      "Name: 98, dtype: object\n",
      "Row 99:\n",
      "Imię         Krzysztof\n",
      "Nazwisko    Dunajewski\n",
      "Name: 99, dtype: object\n"
     ]
    }
   ],
   "source": [
    "# iterate over the rows of the DataFrame and print the row label and contents\n",
    "for index, row in spis.iterrows():\n",
    "    print(f\"Row {index}:\")\n",
    "    print(row[1:3])"
   ]
  },
  {
   "cell_type": "code",
   "execution_count": 32,
   "id": "cb416682",
   "metadata": {},
   "outputs": [
    {
     "name": "stdout",
     "output_type": "stream",
     "text": [
      "0: fryzjer\n",
      "1: elektryk\n",
      "2: ekonomista\n",
      "3: artysta\n",
      "4: geodeta\n",
      "5: brukarz\n",
      "6: kowal\n",
      "7: robotnik\n",
      "8: dekarz\n",
      "9: ankieter\n",
      "10: adwokat\n",
      "11: dentysta\n",
      "12: adwokat\n",
      "13: krawiec\n",
      "14: artysta\n",
      "15: pisarz\n",
      "16: robotnik\n",
      "17: cukiernik\n",
      "18: kucharz\n",
      "19: laborant\n",
      "20: dentysta\n",
      "21: tłumacz\n",
      "22: bankier\n",
      "23: trener\n",
      "24: finansista\n",
      "25: dentysta\n",
      "26: ankieter\n",
      "27: robotnik\n",
      "28: lekarz\n",
      "29: policjant\n",
      "30: policjant\n",
      "31: robotnik\n",
      "32: ekonomista\n",
      "33: elektryk\n",
      "34: robotnik\n",
      "35: optyk\n",
      "36: fryzjer\n",
      "37: górnik\n",
      "38: kucharz\n",
      "39: psycholog\n",
      "40: policjant\n",
      "41: kowal\n",
      "42: robotnik\n",
      "43: brukarz\n",
      "44: laborant\n",
      "45: ekonomista\n",
      "46: robotnik\n",
      "47: choreograf\n",
      "48: pilot\n",
      "49: robotnik\n",
      "50: adwokat\n",
      "51: kelner\n",
      "52: ekonomista\n",
      "53: instruktor tańca\n",
      "54: programista\n",
      "55: robotnik\n",
      "56: cukiernik\n",
      "57: filozof\n",
      "58: kasjer\n",
      "59: architekt wnętrz\n",
      "60: informatyk\n",
      "61: programista\n",
      "62: policjant\n",
      "63: grafik\n",
      "64: geodeta\n",
      "65: choreograf\n",
      "66: policjant\n",
      "67: notariusz\n",
      "68: architekt wnętrz\n",
      "69: robotnik\n",
      "70: fotoreporter\n",
      "71: kelner\n",
      "72: policjant\n",
      "73: robotnik\n",
      "74: żołnierz\n",
      "75: ekonomista\n",
      "76: elektryk\n",
      "77: kosmetyczka\n",
      "78: budowlaniec\n",
      "79: dentysta\n",
      "80: policjant\n",
      "81: ochroniarz\n",
      "82: robotnik\n",
      "83: choreograf\n",
      "84: ekonomista\n",
      "85: aktor\n",
      "86: dentysta\n",
      "87: adwokat\n",
      "88: doradca zawodowy\n",
      "89: blacharz\n",
      "90: policjant\n",
      "91: programista\n",
      "92: geodeta\n",
      "93: kosmetyczka\n",
      "94: fryzjer\n",
      "95: robotnik\n",
      "96: farmaceuta\n",
      "97: robotnik\n",
      "98: robotnik\n",
      "99: aptekarz\n"
     ]
    }
   ],
   "source": [
    "for lab, row in spis.iterrows() :\n",
    "    print(str(lab) + ': ' + str(row['Zawód']))\n",
    "    #print(lab + \": \" + row['Zawód'])"
   ]
  },
  {
   "cell_type": "code",
   "execution_count": 33,
   "id": "71a88361",
   "metadata": {},
   "outputs": [],
   "source": [
    "for lab,row in spis.iterrows():\n",
    "    spis.loc[lab,'BMI'] = row['Waga'] / ((row['Wzrost'] / 100) **2)"
   ]
  },
  {
   "cell_type": "code",
   "execution_count": 34,
   "id": "ac716579",
   "metadata": {},
   "outputs": [
    {
     "data": {
      "text/html": [
       "<div>\n",
       "<style scoped>\n",
       "    .dataframe tbody tr th:only-of-type {\n",
       "        vertical-align: middle;\n",
       "    }\n",
       "\n",
       "    .dataframe tbody tr th {\n",
       "        vertical-align: top;\n",
       "    }\n",
       "\n",
       "    .dataframe thead th {\n",
       "        text-align: right;\n",
       "    }\n",
       "</style>\n",
       "<table border=\"1\" class=\"dataframe\">\n",
       "  <thead>\n",
       "    <tr style=\"text-align: right;\">\n",
       "      <th></th>\n",
       "      <th>LP</th>\n",
       "      <th>Imię</th>\n",
       "      <th>Nazwisko</th>\n",
       "      <th>Data urodzenia</th>\n",
       "      <th>Kolor oczu</th>\n",
       "      <th>Płeć</th>\n",
       "      <th>Wzrost</th>\n",
       "      <th>Waga</th>\n",
       "      <th>Włosy</th>\n",
       "      <th>Zarobki</th>\n",
       "      <th>Premia</th>\n",
       "      <th>Miejscowość</th>\n",
       "      <th>Zawód</th>\n",
       "      <th>samochód</th>\n",
       "      <th>E-mail</th>\n",
       "      <th>Telefon</th>\n",
       "      <th>Ważność badań</th>\n",
       "      <th>BMI</th>\n",
       "    </tr>\n",
       "  </thead>\n",
       "  <tbody>\n",
       "    <tr>\n",
       "      <th>0</th>\n",
       "      <td>1</td>\n",
       "      <td>Katarzyna</td>\n",
       "      <td>Kijowska</td>\n",
       "      <td>1985-08-20</td>\n",
       "      <td>zielone</td>\n",
       "      <td>kobieta</td>\n",
       "      <td>167</td>\n",
       "      <td>72</td>\n",
       "      <td>ciemny blond</td>\n",
       "      <td>6328.289309</td>\n",
       "      <td>350</td>\n",
       "      <td>Łódź</td>\n",
       "      <td>fryzjer</td>\n",
       "      <td>BMW</td>\n",
       "      <td>k.kijowska@onet.pl</td>\n",
       "      <td>48615273705</td>\n",
       "      <td>2012-02-28</td>\n",
       "      <td>25.816630</td>\n",
       "    </tr>\n",
       "    <tr>\n",
       "      <th>1</th>\n",
       "      <td>2</td>\n",
       "      <td>Łukasz</td>\n",
       "      <td>Durzyński</td>\n",
       "      <td>1982-07-20</td>\n",
       "      <td>szare</td>\n",
       "      <td>mężczyzna</td>\n",
       "      <td>157</td>\n",
       "      <td>72</td>\n",
       "      <td>brązowe</td>\n",
       "      <td>8916.285359</td>\n",
       "      <td>200</td>\n",
       "      <td>Sochaczew</td>\n",
       "      <td>elektryk</td>\n",
       "      <td>Fiat</td>\n",
       "      <td>l.durzynski@onet.pl</td>\n",
       "      <td>48500563767</td>\n",
       "      <td>2011-01-02</td>\n",
       "      <td>29.210110</td>\n",
       "    </tr>\n",
       "    <tr>\n",
       "      <th>2</th>\n",
       "      <td>3</td>\n",
       "      <td>Katarzyna</td>\n",
       "      <td>Liszowska</td>\n",
       "      <td>1979-05-17</td>\n",
       "      <td>piwne</td>\n",
       "      <td>kobieta</td>\n",
       "      <td>158</td>\n",
       "      <td>72</td>\n",
       "      <td>ciemny blond</td>\n",
       "      <td>7397.881917</td>\n",
       "      <td>250</td>\n",
       "      <td>Gdańsk</td>\n",
       "      <td>ekonomista</td>\n",
       "      <td>Mercedes</td>\n",
       "      <td>k.lisz@onet.pl</td>\n",
       "      <td>48619422921</td>\n",
       "      <td>2011-07-20</td>\n",
       "      <td>28.841532</td>\n",
       "    </tr>\n",
       "    <tr>\n",
       "      <th>3</th>\n",
       "      <td>4</td>\n",
       "      <td>Katarzyna</td>\n",
       "      <td>Szwarc</td>\n",
       "      <td>1979-06-26</td>\n",
       "      <td>NaN</td>\n",
       "      <td>kobieta</td>\n",
       "      <td>175</td>\n",
       "      <td>64</td>\n",
       "      <td>jasny blond</td>\n",
       "      <td>3325.662051</td>\n",
       "      <td>350</td>\n",
       "      <td>Sochaczew</td>\n",
       "      <td>artysta</td>\n",
       "      <td>Citroen</td>\n",
       "      <td>k.szwarc@onet.pl</td>\n",
       "      <td>48611483139</td>\n",
       "      <td>2012-06-19</td>\n",
       "      <td>20.897959</td>\n",
       "    </tr>\n",
       "    <tr>\n",
       "      <th>4</th>\n",
       "      <td>5</td>\n",
       "      <td>Małgorzata</td>\n",
       "      <td>Nawrocka</td>\n",
       "      <td>1964-05-28</td>\n",
       "      <td>niebieskie</td>\n",
       "      <td>kobieta</td>\n",
       "      <td>168</td>\n",
       "      <td>50</td>\n",
       "      <td>ciemny blond</td>\n",
       "      <td>6719.591473</td>\n",
       "      <td>250</td>\n",
       "      <td>Kraków</td>\n",
       "      <td>geodeta</td>\n",
       "      <td>Ford</td>\n",
       "      <td>m.nawrocka@onet.pl</td>\n",
       "      <td>48617424263</td>\n",
       "      <td>2012-03-20</td>\n",
       "      <td>17.715420</td>\n",
       "    </tr>\n",
       "    <tr>\n",
       "      <th>...</th>\n",
       "      <td>...</td>\n",
       "      <td>...</td>\n",
       "      <td>...</td>\n",
       "      <td>...</td>\n",
       "      <td>...</td>\n",
       "      <td>...</td>\n",
       "      <td>...</td>\n",
       "      <td>...</td>\n",
       "      <td>...</td>\n",
       "      <td>...</td>\n",
       "      <td>...</td>\n",
       "      <td>...</td>\n",
       "      <td>...</td>\n",
       "      <td>...</td>\n",
       "      <td>...</td>\n",
       "      <td>...</td>\n",
       "      <td>...</td>\n",
       "      <td>...</td>\n",
       "    </tr>\n",
       "    <tr>\n",
       "      <th>95</th>\n",
       "      <td>96</td>\n",
       "      <td>Jarosław</td>\n",
       "      <td>Woźniak</td>\n",
       "      <td>1977-04-28</td>\n",
       "      <td>piwne</td>\n",
       "      <td>mężczyzna</td>\n",
       "      <td>183</td>\n",
       "      <td>87</td>\n",
       "      <td>brązowe</td>\n",
       "      <td>2403.142341</td>\n",
       "      <td>220</td>\n",
       "      <td>Łódź</td>\n",
       "      <td>robotnik</td>\n",
       "      <td>Audi</td>\n",
       "      <td>j.wozniak@onet.pl</td>\n",
       "      <td>48509100839</td>\n",
       "      <td>2011-10-12</td>\n",
       "      <td>25.978680</td>\n",
       "    </tr>\n",
       "    <tr>\n",
       "      <th>96</th>\n",
       "      <td>97</td>\n",
       "      <td>Paweł</td>\n",
       "      <td>Dębowski</td>\n",
       "      <td>1979-10-17</td>\n",
       "      <td>zielone</td>\n",
       "      <td>mężczyzna</td>\n",
       "      <td>198</td>\n",
       "      <td>57</td>\n",
       "      <td>rude</td>\n",
       "      <td>2711.246254</td>\n",
       "      <td>100</td>\n",
       "      <td>Sochaczew</td>\n",
       "      <td>farmaceuta</td>\n",
       "      <td>Alfa Romeo</td>\n",
       "      <td>p.debowski@onet.pl</td>\n",
       "      <td>48502641437</td>\n",
       "      <td>2012-04-01</td>\n",
       "      <td>14.539333</td>\n",
       "    </tr>\n",
       "    <tr>\n",
       "      <th>97</th>\n",
       "      <td>98</td>\n",
       "      <td>Sylwia</td>\n",
       "      <td>Pająk</td>\n",
       "      <td>1980-11-05</td>\n",
       "      <td>piwne</td>\n",
       "      <td>kobieta</td>\n",
       "      <td>182</td>\n",
       "      <td>47</td>\n",
       "      <td>brązowe</td>\n",
       "      <td>3937.306670</td>\n",
       "      <td>220</td>\n",
       "      <td>Sochaczew</td>\n",
       "      <td>robotnik</td>\n",
       "      <td>Mazda</td>\n",
       "      <td>s.pajak@onet.pl</td>\n",
       "      <td>48507450320</td>\n",
       "      <td>2012-05-01</td>\n",
       "      <td>14.189108</td>\n",
       "    </tr>\n",
       "    <tr>\n",
       "      <th>98</th>\n",
       "      <td>99</td>\n",
       "      <td>Małgorzata</td>\n",
       "      <td>Motel</td>\n",
       "      <td>1981-11-07</td>\n",
       "      <td>niebieskie</td>\n",
       "      <td>kobieta</td>\n",
       "      <td>180</td>\n",
       "      <td>52</td>\n",
       "      <td>ciemny blond</td>\n",
       "      <td>3215.698580</td>\n",
       "      <td>311</td>\n",
       "      <td>Sochaczew</td>\n",
       "      <td>robotnik</td>\n",
       "      <td>Daewoo</td>\n",
       "      <td>m.motel@onet.pl</td>\n",
       "      <td>48610737163</td>\n",
       "      <td>2010-11-29</td>\n",
       "      <td>16.049383</td>\n",
       "    </tr>\n",
       "    <tr>\n",
       "      <th>99</th>\n",
       "      <td>100</td>\n",
       "      <td>Krzysztof</td>\n",
       "      <td>Dunajewski</td>\n",
       "      <td>1984-02-26</td>\n",
       "      <td>piwne</td>\n",
       "      <td>mężczyzna</td>\n",
       "      <td>174</td>\n",
       "      <td>71</td>\n",
       "      <td>brązowe</td>\n",
       "      <td>1253.101055</td>\n",
       "      <td>250</td>\n",
       "      <td>Łódź</td>\n",
       "      <td>aptekarz</td>\n",
       "      <td>Fiat</td>\n",
       "      <td>k.dunajewski@onet.pl</td>\n",
       "      <td>48619278431</td>\n",
       "      <td>2011-09-20</td>\n",
       "      <td>23.450918</td>\n",
       "    </tr>\n",
       "  </tbody>\n",
       "</table>\n",
       "<p>100 rows × 18 columns</p>\n",
       "</div>"
      ],
      "text/plain": [
       "     LP        Imię    Nazwisko Data urodzenia  Kolor oczu       Płeć  Wzrost  \\\n",
       "0     1   Katarzyna    Kijowska     1985-08-20     zielone    kobieta     167   \n",
       "1     2      Łukasz   Durzyński     1982-07-20       szare  mężczyzna     157   \n",
       "2     3   Katarzyna   Liszowska     1979-05-17       piwne    kobieta     158   \n",
       "3     4   Katarzyna      Szwarc     1979-06-26         NaN    kobieta     175   \n",
       "4     5  Małgorzata    Nawrocka     1964-05-28  niebieskie    kobieta     168   \n",
       "..  ...         ...         ...            ...         ...        ...     ...   \n",
       "95   96    Jarosław     Woźniak     1977-04-28       piwne  mężczyzna     183   \n",
       "96   97       Paweł    Dębowski     1979-10-17     zielone  mężczyzna     198   \n",
       "97   98      Sylwia       Pająk     1980-11-05       piwne    kobieta     182   \n",
       "98   99  Małgorzata       Motel     1981-11-07  niebieskie    kobieta     180   \n",
       "99  100   Krzysztof  Dunajewski     1984-02-26       piwne  mężczyzna     174   \n",
       "\n",
       "    Waga         Włosy      Zarobki  Premia Miejscowość       Zawód  \\\n",
       "0     72  ciemny blond  6328.289309     350        Łódź     fryzjer   \n",
       "1     72       brązowe  8916.285359     200   Sochaczew    elektryk   \n",
       "2     72  ciemny blond  7397.881917     250      Gdańsk  ekonomista   \n",
       "3     64   jasny blond  3325.662051     350   Sochaczew     artysta   \n",
       "4     50  ciemny blond  6719.591473     250      Kraków     geodeta   \n",
       "..   ...           ...          ...     ...         ...         ...   \n",
       "95    87       brązowe  2403.142341     220        Łódź    robotnik   \n",
       "96    57          rude  2711.246254     100   Sochaczew  farmaceuta   \n",
       "97    47       brązowe  3937.306670     220   Sochaczew    robotnik   \n",
       "98    52  ciemny blond  3215.698580     311   Sochaczew    robotnik   \n",
       "99    71       brązowe  1253.101055     250        Łódź    aptekarz   \n",
       "\n",
       "      samochód                E-mail      Telefon Ważność badań        BMI  \n",
       "0          BMW    k.kijowska@onet.pl  48615273705    2012-02-28  25.816630  \n",
       "1         Fiat   l.durzynski@onet.pl  48500563767    2011-01-02  29.210110  \n",
       "2     Mercedes        k.lisz@onet.pl  48619422921    2011-07-20  28.841532  \n",
       "3      Citroen      k.szwarc@onet.pl  48611483139    2012-06-19  20.897959  \n",
       "4         Ford    m.nawrocka@onet.pl  48617424263    2012-03-20  17.715420  \n",
       "..         ...                   ...          ...           ...        ...  \n",
       "95        Audi     j.wozniak@onet.pl  48509100839    2011-10-12  25.978680  \n",
       "96  Alfa Romeo    p.debowski@onet.pl  48502641437    2012-04-01  14.539333  \n",
       "97       Mazda       s.pajak@onet.pl  48507450320    2012-05-01  14.189108  \n",
       "98      Daewoo       m.motel@onet.pl  48610737163    2010-11-29  16.049383  \n",
       "99        Fiat  k.dunajewski@onet.pl  48619278431    2011-09-20  23.450918  \n",
       "\n",
       "[100 rows x 18 columns]"
      ]
     },
     "execution_count": 34,
     "metadata": {},
     "output_type": "execute_result"
    }
   ],
   "source": [
    "spis"
   ]
  },
  {
   "cell_type": "markdown",
   "id": "515fdf5f",
   "metadata": {},
   "source": [
    " "
   ]
  },
  {
   "cell_type": "markdown",
   "id": "209ffa83",
   "metadata": {},
   "source": [
    " "
   ]
  },
  {
   "cell_type": "markdown",
   "id": "f6e961aa",
   "metadata": {},
   "source": [
    " "
   ]
  },
  {
   "cell_type": "markdown",
   "id": "d006d603",
   "metadata": {},
   "source": [
    "## Case Study: Hacker Statistics"
   ]
  },
  {
   "cell_type": "markdown",
   "id": "e07f5416",
   "metadata": {},
   "source": [
    "#### Random number"
   ]
  },
  {
   "cell_type": "code",
   "execution_count": 35,
   "id": "2e0ef0d9",
   "metadata": {},
   "outputs": [
    {
     "data": {
      "text/plain": [
       "0.807973374913737"
      ]
     },
     "execution_count": 35,
     "metadata": {},
     "output_type": "execute_result"
    }
   ],
   "source": [
    "np.random.rand()"
   ]
  },
  {
   "cell_type": "code",
   "execution_count": 36,
   "id": "35dc8c4f",
   "metadata": {},
   "outputs": [
    {
     "name": "stdout",
     "output_type": "stream",
     "text": [
      "Reszka\n"
     ]
    }
   ],
   "source": [
    "# Coin toss\n",
    "np.random.seed(12)                  # Pozwala wygenerować losową liczbę dla 12 (zawsze zwróci tą samą losową liczbę)\n",
    "coin = np.random.randint(0,2)   \n",
    "\n",
    "if coin == '0':\n",
    "    print('Orzeł')\n",
    "else:\n",
    "    print('Reszka')"
   ]
  },
  {
   "cell_type": "code",
   "execution_count": 41,
   "id": "901510ed",
   "metadata": {},
   "outputs": [],
   "source": [
    "np.random.seed(12)\n",
    "outcomes = []\n",
    "\n",
    "for i in range(10):\n",
    "    coin = np.random.randint(0,2)\n",
    "    if coin == 0:\n",
    "        outcomes.append('Orzeł')\n",
    "    else:\n",
    "        outcomes.append('Reszka')"
   ]
  },
  {
   "cell_type": "code",
   "execution_count": 42,
   "id": "ccc3a55e",
   "metadata": {},
   "outputs": [
    {
     "data": {
      "text/plain": [
       "['Reszka',\n",
       " 'Reszka',\n",
       " 'Orzeł',\n",
       " 'Reszka',\n",
       " 'Reszka',\n",
       " 'Orzeł',\n",
       " 'Reszka',\n",
       " 'Reszka',\n",
       " 'Orzeł',\n",
       " 'Orzeł']"
      ]
     },
     "execution_count": 42,
     "metadata": {},
     "output_type": "execute_result"
    }
   ],
   "source": [
    "outcomes"
   ]
  },
  {
   "cell_type": "code",
   "execution_count": 47,
   "id": "63a80bcb",
   "metadata": {},
   "outputs": [],
   "source": [
    "np.random.seed(123)\n",
    "reszka = [0]\n",
    "\n",
    "for i in range(10):\n",
    "    coin = np.random.randint(0, 2)\n",
    "    reszka.append(reszka[i] + coin)"
   ]
  },
  {
   "cell_type": "code",
   "execution_count": 58,
   "id": "591f6838",
   "metadata": {},
   "outputs": [],
   "source": [
    "np.random.seed(123)\n",
    "f_reszka = []\n",
    "\n",
    "for i in range(1000):\n",
    "    reszka = [0]\n",
    "    for i in range(10):\n",
    "        coin = np.random.randint(0,2)\n",
    "        reszka.append(reszka[i] + coin)\n",
    "    f_reszka.append(reszka[-1])"
   ]
  },
  {
   "cell_type": "code",
   "execution_count": 59,
   "id": "27f2b0a7",
   "metadata": {},
   "outputs": [
    {
     "data": {
      "text/plain": [
       "(array([  1.,   6.,  39., 133., 213., 240., 199., 120.,  39.,  10.]),\n",
       " array([ 0.,  1.,  2.,  3.,  4.,  5.,  6.,  7.,  8.,  9., 10.]),\n",
       " <BarContainer object of 10 artists>)"
      ]
     },
     "execution_count": 59,
     "metadata": {},
     "output_type": "execute_result"
    },
    {
     "data": {
      "image/png": "[encoded data removed]",
      "text/plain": [
       "<Figure size 432x288 with 1 Axes>"
      ]
     },
     "metadata": {
      "needs_background": "light"
     },
     "output_type": "display_data"
    }
   ],
   "source": [
    "plt.hist(f_reszka, bins = 10, edgecolor='black')"
   ]
  },
  {
   "cell_type": "markdown",
   "id": "c913ac75",
   "metadata": {},
   "source": [
    " "
   ]
  },
  {
   "cell_type": "markdown",
   "id": "63d2b090",
   "metadata": {},
   "source": [
    " "
   ]
  },
  {
   "cell_type": "markdown",
   "id": "f84a1c7c",
   "metadata": {},
   "source": [
    " "
   ]
  },
  {
   "cell_type": "markdown",
   "id": "081888fa",
   "metadata": {},
   "source": [
    "### Project"
   ]
  },
  {
   "attachments": {
    "Zrzut%20ekranu%202023-04-04%20121514.png": {
     "image/png": "[encoded data removed]"
    }
   },
   "cell_type": "markdown",
   "id": "125e8ec7",
   "metadata": {},
   "source": [
    "![Zrzut%20ekranu%202023-04-04%20121514.png](attachment:Zrzut%20ekranu%202023-04-04%20121514.png)"
   ]
  },
  {
   "cell_type": "code",
   "execution_count": 37,
   "id": "bd54fb1a",
   "metadata": {},
   "outputs": [
    {
     "name": "stdout",
     "output_type": "stream",
     "text": [
      "0.6964691855978616\n"
     ]
    }
   ],
   "source": [
    "# Import numpy as np\n",
    "import numpy as np\n",
    "\n",
    "# Set the seed\n",
    "np.random.seed(123)\n",
    "\n",
    "# Generate and print random float\n",
    "print(np.random.rand())"
   ]
  },
  {
   "cell_type": "code",
   "execution_count": 38,
   "id": "966fca17",
   "metadata": {},
   "outputs": [
    {
     "name": "stdout",
     "output_type": "stream",
     "text": [
      "6\n",
      "3\n"
     ]
    }
   ],
   "source": [
    "# Import numpy and set seed\n",
    "import numpy as np\n",
    "np.random.seed(123)\n",
    "\n",
    "# Use randint() to simulate a dice\n",
    "print(np.random.randint(1,7))\n",
    "\n",
    "# Use randint() again\n",
    "print(np.random.randint(1,7))"
   ]
  },
  {
   "cell_type": "code",
   "execution_count": 39,
   "id": "5d2f20f2",
   "metadata": {},
   "outputs": [
    {
     "name": "stdout",
     "output_type": "stream",
     "text": [
      "5\n",
      "51\n"
     ]
    }
   ],
   "source": [
    "# Starting step\n",
    "step = 50\n",
    "\n",
    "# Roll the dice\n",
    "dice = np.random.randint(1,7)\n",
    "\n",
    "# Finish the control construct\n",
    "if dice <= 2 :\n",
    "    step = step - 1\n",
    "elif dice <= 5 :\n",
    "    step = step + 1\n",
    "else :\n",
    "    step = step + np.random.randint(1,7)\n",
    "\n",
    "# Print out dice and step\n",
    "print(dice)\n",
    "print(step)"
   ]
  },
  {
   "cell_type": "code",
   "execution_count": 43,
   "id": "300ba7b7",
   "metadata": {},
   "outputs": [
    {
     "name": "stdout",
     "output_type": "stream",
     "text": [
      "[0, -1, 0, 6, 5, 6, 7, 8, 7, 8, 9, 12, 11, 12, 13, 14, 13, 12, 13, 14, 13, 14, 15, 17, 18, 17, 18, 19, 18, 19, 18, 17, 16, 15, 16, 15, 16, 15, 16, 17, 21, 25, 26, 30, 34, 35, 34, 35, 39, 40, 41, 42, 43, 44, 45, 46, 45, 46, 47, 49, 50, 52, 56, 60, 59, 60, 61, 60, 65, 66, 67, 68, 69, 70, 73, 72, 71, 76, 75, 76, 78, 77, 76, 77, 76, 77, 80, 79, 80, 81, 82, 83, 84, 83, 82, 83, 84, 85, 86, 87, 86]\n"
     ]
    }
   ],
   "source": [
    "# Initialize random_walk\n",
    "random_walk = [0]\n",
    "\n",
    "# Complete the ___\n",
    "for x in range(100) :\n",
    "    # Set step: last element in random_walk\n",
    "    step = random_walk[-1]\n",
    "\n",
    "    # Roll the dice\n",
    "    dice = np.random.randint(1,7)\n",
    "\n",
    "    # Determine next step\n",
    "    if dice <= 2:\n",
    "        step = step - 1\n",
    "    elif dice <= 5:\n",
    "        step = step + 1\n",
    "    else:\n",
    "        step = step + np.random.randint(1,7)\n",
    "\n",
    "    # append next_step to random_walk\n",
    "    random_walk.append(step)\n",
    "\n",
    "# Print random_walk\n",
    "print(random_walk)"
   ]
  },
  {
   "cell_type": "code",
   "execution_count": 44,
   "id": "6e6531b9",
   "metadata": {},
   "outputs": [
    {
     "name": "stdout",
     "output_type": "stream",
     "text": [
      "[0, 3, 4, 5, 4, 5, 6, 7, 6, 5, 4, 3, 2, 1, 0, 0, 1, 6, 5, 4, 5, 4, 5, 6, 7, 8, 9, 8, 9, 8, 9, 10, 11, 12, 11, 15, 16, 15, 16, 15, 16, 17, 18, 19, 20, 21, 22, 25, 26, 27, 28, 33, 34, 38, 39, 38, 39, 40, 39, 40, 41, 43, 44, 45, 44, 43, 44, 45, 44, 43, 44, 45, 47, 46, 45, 46, 45, 46, 47, 48, 50, 49, 50, 51, 52, 53, 54, 53, 52, 53, 52, 53, 54, 53, 56, 57, 58, 59, 58, 59, 60]\n"
     ]
    }
   ],
   "source": [
    "np.random.seed(123)\n",
    "# Initialize random_walk\n",
    "random_walk = [0]\n",
    "\n",
    "for x in range(100) :\n",
    "    step = random_walk[-1]\n",
    "    dice = np.random.randint(1,7)\n",
    "\n",
    "    if dice <= 2:\n",
    "        # Replace below: use max to make sure step can't go below 0\n",
    "        step = max(0, step - 1)\n",
    "    elif dice <= 5:\n",
    "        step = step + 1\n",
    "    else:\n",
    "        step = step + np.random.randint(1,7)\n",
    "\n",
    "    random_walk.append(step)\n",
    "\n",
    "print(random_walk)"
   ]
  },
  {
   "cell_type": "code",
   "execution_count": 45,
   "id": "d5af58c7",
   "metadata": {},
   "outputs": [
    {
     "data": {
      "image/png": "[encoded data removed]",
      "text/plain": [
       "<Figure size 432x288 with 1 Axes>"
      ]
     },
     "metadata": {
      "needs_background": "light"
     },
     "output_type": "display_data"
    }
   ],
   "source": [
    "# Visualization\n",
    "random_walk = [0]\n",
    "\n",
    "for x in range(100) :\n",
    "    step = random_walk[-1]\n",
    "    dice = np.random.randint(1,7)\n",
    "\n",
    "    if dice <= 2:\n",
    "        step = max(0, step - 1)\n",
    "    elif dice <= 5:\n",
    "        step = step + 1\n",
    "    else:\n",
    "        step = step + np.random.randint(1,7)\n",
    "\n",
    "    random_walk.append(step)\n",
    "\n",
    "# Import matplotlib.pyplot as plt\n",
    "import matplotlib.pyplot as plt\n",
    "\n",
    "# Plot random_walk\n",
    "plt.plot(random_walk)\n",
    "\n",
    "# Show the plot\n",
    "plt.show()"
   ]
  },
  {
   "cell_type": "code",
   "execution_count": 60,
   "id": "83ad3f68",
   "metadata": {},
   "outputs": [
    {
     "name": "stdout",
     "output_type": "stream",
     "text": [
      "[[0, 0, 1, 0, 0, 1, 2, 7, 8, 9, 10, 11, 10, 13, 12, 11, 10, 9, 11, 15, 16, 15, 18, 19, 20, 21, 27, 26, 32, 31, 32, 31, 32, 38, 39, 40, 39, 38, 39, 40, 41, 43, 42, 44, 49, 51, 50, 51, 52, 53, 54, 56, 57, 58, 59, 58, 59, 60, 59, 60, 61, 62, 61, 62, 67, 66, 67, 68, 67, 72, 73, 74, 75, 76, 79, 80, 79, 80, 81, 82, 83, 84, 85, 84, 83, 84, 90, 89, 90, 94, 93, 94, 96, 95, 96, 97, 100, 101, 102, 103, 104], [0, 0, 0, 1, 2, 1, 2, 1, 2, 3, 2, 1, 2, 3, 2, 1, 2, 3, 2, 3, 2, 5, 11, 12, 13, 19, 23, 24, 25, 24, 25, 28, 29, 30, 29, 30, 29, 30, 36, 35, 36, 35, 36, 35, 36, 35, 36, 35, 36, 35, 41, 46, 47, 46, 45, 46, 45, 46, 47, 46, 47, 48, 49, 50, 49, 50, 51, 52, 53, 52, 53, 54, 53, 52, 51, 52, 53, 59, 61, 60, 59, 60, 61, 62, 63, 62, 63, 64, 65, 66, 67, 66, 65, 66, 67, 66, 65, 64, 65, 66, 67], [0, 0, 1, 0, 1, 0, 1, 0, 1, 0, 1, 0, 0, 2, 3, 4, 5, 9, 10, 11, 12, 13, 14, 15, 16, 17, 18, 19, 18, 19, 21, 20, 21, 20, 21, 26, 27, 28, 29, 30, 29, 28, 27, 32, 31, 33, 32, 33, 34, 33, 32, 31, 30, 29, 30, 31, 30, 29, 28, 29, 28, 33, 32, 35, 34, 39, 40, 41, 42, 45, 46, 45, 44, 45, 46, 45, 44, 49, 50, 49, 50, 51, 50, 51, 52, 51, 52, 53, 57, 56, 55, 56, 57, 58, 60, 61, 60, 61, 62, 61, 62], [0, 0, 6, 7, 8, 7, 8, 7, 8, 9, 14, 20, 22, 21, 22, 23, 28, 33, 34, 33, 34, 39, 40, 41, 42, 43, 44, 45, 44, 45, 46, 47, 46, 45, 46, 47, 51, 50, 53, 54, 53, 54, 55, 56, 57, 58, 57, 56, 57, 63, 67, 68, 67, 68, 72, 73, 72, 73, 74, 77, 78, 79, 78, 77, 79, 78, 79, 80, 84, 83, 84, 85, 84, 87, 86, 85, 86, 85, 86, 85, 86, 87, 88, 87, 88, 87, 86, 87, 88, 87, 88, 87, 86, 87, 88, 89, 90, 89, 90, 89, 88], [0, 0, 0, 1, 0, 0, 0, 1, 2, 1, 2, 1, 2, 1, 2, 3, 4, 5, 6, 7, 8, 9, 10, 9, 8, 7, 6, 12, 11, 10, 12, 11, 10, 11, 12, 11, 10, 9, 14, 20, 19, 18, 21, 22, 23, 24, 27, 28, 29, 30, 31, 32, 31, 30, 36, 37, 38, 39, 38, 39, 43, 44, 45, 46, 48, 49, 50, 51, 52, 57, 56, 57, 58, 62, 64, 63, 62, 61, 62, 63, 64, 65, 64, 63, 64, 65, 66, 67, 66, 68, 69, 70, 71, 70, 69, 70, 71, 72, 76, 82, 88], [0, 1, 0, 1, 2, 3, 4, 3, 4, 3, 4, 3, 4, 5, 4, 5, 6, 7, 8, 13, 14, 13, 15, 16, 17, 18, 17, 18, 17, 18, 17, 18, 23, 22, 21, 22, 21, 20, 19, 20, 21, 22, 23, 24, 26, 27, 28, 29, 34, 36, 35, 36, 35, 36, 37, 36, 37, 38, 40, 39, 38, 37, 38, 37, 36, 37, 38, 39, 38, 39, 40, 43, 42, 48, 47, 46, 47, 46, 45, 46, 47, 48, 47, 46, 45, 44, 43, 44, 45, 46, 45, 44, 43, 48, 49, 53, 57, 58, 59, 61, 62], [0, 5, 4, 5, 6, 7, 8, 9, 8, 11, 12, 13, 14, 15, 14, 19, 20, 19, 18, 19, 21, 22, 21, 24, 25, 24, 23, 22, 24, 23, 24, 26, 27, 32, 31, 32, 31, 30, 31, 32, 33, 32, 31, 32, 33, 34, 33, 32, 31, 32, 33, 34, 35, 34, 39, 40, 39, 40, 43, 44, 45, 44, 46, 47, 48, 49, 48, 49, 50, 56, 57, 56, 55, 56, 55, 56, 61, 62, 63, 62, 63, 67, 70, 69, 70, 69, 70, 71, 70, 71, 72, 73, 79, 78, 77, 78, 77, 78, 77, 78, 79], [0, 1, 0, 1, 0, 4, 3, 4, 5, 6, 7, 8, 7, 8, 12, 13, 14, 15, 14, 15, 14, 13, 17, 18, 19, 18, 19, 18, 20, 19, 24, 25, 26, 25, 26, 29, 30, 31, 32, 33, 34, 38, 37, 36, 35, 34, 33, 34, 35, 36, 39, 38, 37, 38, 39, 40, 39, 38, 39, 40, 41, 40, 41, 40, 41, 42, 41, 42, 41, 40, 41, 42, 43, 44, 45, 46, 45, 46, 47, 46, 47, 48, 47, 48, 47, 48, 49, 53, 52, 53, 52, 53, 54, 53, 54, 57, 58, 59, 60, 62, 63], [0, 1, 2, 3, 2, 3, 2, 8, 9, 10, 9, 10, 11, 12, 13, 12, 11, 14, 13, 14, 13, 12, 13, 14, 15, 14, 15, 16, 17, 18, 19, 20, 21, 20, 19, 20, 19, 20, 21, 22, 23, 24, 23, 24, 25, 24, 25, 24, 23, 24, 25, 26, 25, 26, 27, 26, 27, 29, 28, 27, 29, 30, 33, 34, 33, 34, 39, 40, 41, 46, 47, 48, 49, 48, 52, 51, 52, 53, 52, 53, 54, 53, 54, 53, 54, 56, 60, 59, 61, 62, 63, 65, 66, 67, 68, 69, 71, 72, 71, 72, 71], [0, 0, 3, 4, 5, 8, 9, 8, 9, 10, 11, 12, 11, 12, 11, 13, 17, 19, 20, 21, 22, 23, 24, 25, 29, 34, 35, 34, 35, 34, 35, 36, 37, 36, 40, 41, 40, 39, 45, 46, 47, 46, 45, 44, 45, 46, 47, 46, 47, 48, 47, 48, 49, 48, 47, 48, 49, 48, 47, 52, 51, 57, 56, 57, 56, 62, 63, 62, 61, 62, 63, 64, 65, 66, 65, 66, 65, 66, 72, 71, 70, 69, 68, 67, 68, 69, 68, 67, 66, 67, 66, 67, 68, 67, 66, 65, 66, 67, 66, 67, 66]]\n"
     ]
    }
   ],
   "source": [
    "# Initialize all_walks (don't change this line)\n",
    "all_walks = []\n",
    "\n",
    "# Simulate random walk 10 times\n",
    "for i in range(10) :\n",
    "\n",
    "    # Code from before\n",
    "    random_walk = [0]\n",
    "    for x in range(100) :\n",
    "        step = random_walk[-1]\n",
    "        dice = np.random.randint(1,7)\n",
    "\n",
    "        if dice <= 2:\n",
    "            step = max(0, step - 1)\n",
    "        elif dice <= 5:\n",
    "            step = step + 1\n",
    "        else:\n",
    "            step = step + np.random.randint(1,7)\n",
    "        random_walk.append(step)\n",
    "\n",
    "    # Append random_walk to all_walks\n",
    "    all_walks.append(random_walk)\n",
    "\n",
    "# Print all_walks\n",
    "print(all_walks)"
   ]
  },
  {
   "cell_type": "code",
   "execution_count": 61,
   "id": "0c847226",
   "metadata": {},
   "outputs": [
    {
     "data": {
      "image/png": "[encoded data removed]",
      "text/plain": [
       "<Figure size 432x288 with 1 Axes>"
      ]
     },
     "metadata": {
      "needs_background": "light"
     },
     "output_type": "display_data"
    },
    {
     "data": {
      "image/png": "[encoded data removed]",
      "text/plain": [
       "<Figure size 432x288 with 1 Axes>"
      ]
     },
     "metadata": {
      "needs_background": "light"
     },
     "output_type": "display_data"
    }
   ],
   "source": [
    "# initialize and populate all_walks\n",
    "all_walks = []\n",
    "for i in range(10) :\n",
    "    random_walk = [0]\n",
    "    for x in range(100) :\n",
    "        step = random_walk[-1]\n",
    "        dice = np.random.randint(1,7)\n",
    "        if dice <= 2:\n",
    "            step = max(0, step - 1)\n",
    "        elif dice <= 5:\n",
    "            step = step + 1\n",
    "        else:\n",
    "            step = step + np.random.randint(1,7)\n",
    "        random_walk.append(step)\n",
    "    all_walks.append(random_walk)\n",
    "\n",
    "# Convert all_walks to NumPy array: np_aw\n",
    "np_aw = np.array(all_walks)\n",
    "\n",
    "# Plot np_aw and show\n",
    "plt.plot(np_aw)\n",
    "plt.show()\n",
    "\n",
    "# Clear the figure\n",
    "plt.clf()\n",
    "\n",
    "# Transpose np_aw: np_aw_t\n",
    "np_aw_t = np.transpose(np_aw)\n",
    "\n",
    "# Plot np_aw_t and show\n",
    "plt.plot(np_aw_t)\n",
    "plt.show()"
   ]
  },
  {
   "cell_type": "code",
   "execution_count": 62,
   "id": "cf845274",
   "metadata": {},
   "outputs": [
    {
     "data": {
      "image/png": "[encoded data removed]",
      "text/plain": [
       "<Figure size 432x288 with 1 Axes>"
      ]
     },
     "metadata": {
      "needs_background": "light"
     },
     "output_type": "display_data"
    }
   ],
   "source": [
    "# Simulate random walk 250 times\n",
    "all_walks = []\n",
    "for i in range(250) :\n",
    "    random_walk = [0]\n",
    "    for x in range(100) :\n",
    "        step = random_walk[-1]\n",
    "        dice = np.random.randint(1,7)\n",
    "        if dice <= 2:\n",
    "            step = max(0, step - 1)\n",
    "        elif dice <= 5:\n",
    "            step = step + 1\n",
    "        else:\n",
    "            step = step + np.random.randint(1,7)\n",
    "\n",
    "        # Implement clumsiness\n",
    "        if np.random.rand() <= 0.001 :\n",
    "            step = 0\n",
    "\n",
    "        random_walk.append(step)\n",
    "    all_walks.append(random_walk)\n",
    "\n",
    "# Create and plot np_aw_t\n",
    "np_aw_t = np.transpose(np.array(all_walks))\n",
    "plt.plot(np_aw_t)\n",
    "plt.show()"
   ]
  },
  {
   "cell_type": "code",
   "execution_count": 64,
   "id": "c3d012e9",
   "metadata": {},
   "outputs": [
    {
     "data": {
      "image/png": "[encoded data removed]",
      "text/plain": [
       "<Figure size 432x288 with 1 Axes>"
      ]
     },
     "metadata": {
      "needs_background": "light"
     },
     "output_type": "display_data"
    }
   ],
   "source": [
    "# Simulate random walk 500 times\n",
    "all_walks = []\n",
    "for i in range(500) :\n",
    "    random_walk = [0]\n",
    "    for x in range(100) :\n",
    "        step = random_walk[-1]\n",
    "        dice = np.random.randint(1,7)\n",
    "        if dice <= 2:\n",
    "            step = max(0, step - 1)\n",
    "        elif dice <= 5:\n",
    "            step = step + 1\n",
    "        else:\n",
    "            step = step + np.random.randint(1,7)\n",
    "        if np.random.rand() <= 0.001 :\n",
    "            step = 0\n",
    "        random_walk.append(step)\n",
    "    all_walks.append(random_walk)\n",
    "\n",
    "# Create and plot np_aw_t\n",
    "np_aw_t = np.transpose(np.array(all_walks))\n",
    "\n",
    "# Select last row from np_aw_t: ends\n",
    "ends = np_aw_t[-1]\n",
    "\n",
    "# Plot histogram of ends, display plot\n",
    "plt.hist(ends, edgecolor='black')\n",
    "plt.show()"
   ]
  },
  {
   "cell_type": "code",
   "execution_count": 67,
   "id": "edbaecc8",
   "metadata": {},
   "outputs": [
    {
     "data": {
      "text/plain": [
       "0.798"
      ]
     },
     "execution_count": 67,
     "metadata": {},
     "output_type": "execute_result"
    }
   ],
   "source": [
    "# What's the estimated chance that you'll reach at least 60 steps high if you play this Empire State Building game? \n",
    "np.mean(ends >= 60)"
   ]
  }
 ],
 "metadata": {
  "kernelspec": {
   "display_name": "Python 3 (ipykernel)",
   "language": "python",
   "name": "python3"
  },
  "language_info": {
   "codemirror_mode": {
    "name": "ipython",
    "version": 3
   },
   "file_extension": ".py",
   "mimetype": "text/x-python",
   "name": "python",
   "nbconvert_exporter": "python",
   "pygments_lexer": "ipython3",
   "version": "3.9.12"
  }
 },
 "nbformat": 4,
 "nbformat_minor": 5
}
